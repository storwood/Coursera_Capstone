{
 "cells": [
  {
   "cell_type": "markdown",
   "metadata": {},
   "source": [
    "## This is a project notebook for IBM Data Science Coursera: Capstone Project Notebook"
   ]
  },
  {
   "cell_type": "markdown",
   "metadata": {},
   "source": [
    "## Backgroud"
   ]
  },
  {
   "cell_type": "markdown",
   "metadata": {},
   "source": [
    "Number of Asian restaurants is growing in Poland lately. Asian restaurants are very often crowded especially in Warsaw area.\n",
    "\n",
    "In Paris center and ‘little crown’, Vietnamese baguettes and Bubble tea are opening everywhere, and are always full whatever is the hour.\n",
    "\n",
    "This project aims to estimate the best localization to open such a business in Versailles city, just nearby Paris.\n",
    "\n",
    "Prior launching any restaurant, it’s important to know if the business as a good opportunity. In order to do so, this report will try to gather data about other restaurant localization, competitors and best localization.\n",
    "\n",
    "These data could be use for a business plan afterward"
   ]
  }
 ],
 "metadata": {
  "kernelspec": {
   "display_name": "Python 3",
   "language": "python",
   "name": "python3"
  },
  "language_info": {
   "codemirror_mode": {
    "name": "ipython",
    "version": 3
   },
   "file_extension": ".py",
   "mimetype": "text/x-python",
   "name": "python",
   "nbconvert_exporter": "python",
   "pygments_lexer": "ipython3",
   "version": "3.8.3"
  }
 },
 "nbformat": 4,
 "nbformat_minor": 4
}
