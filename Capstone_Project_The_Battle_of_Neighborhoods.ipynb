{
 "cells": [
  {
   "cell_type": "markdown",
   "metadata": {},
   "source": [
    "# 1. Discussion and Background of the Business Problem:\n",
    "\n",
    "Vegetarian/Vegan Restaurants\n",
    "\n",
    "The capstone project explores the best locations for Vegetarian and Vegan people. New York is a major metropolitan area with more than 8,419 million (United States Census Bureau, 2019) people living within city limits. In addtition, New York is a popluar tourist point for people from all over the world. New York City is the largest city in the United States with a long history of international immigration. According to Top Trends in Prepared Foods 2017 report 8% of the US population is vegeterian and 6% of the US population is vegan. Hence, vegetarian/vegan food treind is getting more popular, it is important for natives and tourits to get access to the best restaruants. \n",
    "\n",
    "\n",
    "## Target Audience\n",
    "* Business personnel who wants to invest or open a vegan/vegetarian restaurant.\n",
    "* The eco-friendly people who care about planet and eat responsibly\n",
    "* Finding the best location for opening a restaurant.\n",
    "* Exploratory Data Analysis techniques to obtain necessary data, analyze it and, finally be able to tell a story out of it.\n",
    "\n",
    "\n",
    "## Problem Statement\n",
    "1. What is the best location for an Vegan/Vegetarian restaurant in New York City?\n",
    "2. In what Neighborhood should I open a Vegan/Vegetarian restaurant to have the best chance of being successful?\n",
    "3. The hint map where tourists/natives can find the biggest number of Vegan/Vegetarian restaurants\n",
    "\n",
    "\n",
    "## Data Section\n",
    "For this project the following data was used:\n",
    "\n",
    "1. New York City data that contains Borough, Neighborhoods along with their coordinates (latitudes and longitudes)\n",
    "    * Data Source: https://cocl.us/new_york_dataset\n",
    "    * Description: This data set contains the required information. And we will use this data set to explore various neighborhoods of New York city.\n",
    "2. Vegan/Vegetarian restaurants in all neighborhood of New York city (focusing only on one neighborhood) .\n",
    "    * Data Source: Foursquare API\n",
    "    * Description: By using this API we will get all the venues in the Queens neighborhood. We can filter these venues to get only Vegetarian/Vegan restaurants.\n",
    "    "
   ]
  },
  {
   "cell_type": "code",
   "execution_count": null,
   "metadata": {},
   "outputs": [],
   "source": []
  },
  {
   "cell_type": "code",
   "execution_count": null,
   "metadata": {},
   "outputs": [],
   "source": []
  },
  {
   "cell_type": "code",
   "execution_count": null,
   "metadata": {},
   "outputs": [],
   "source": []
  },
  {
   "cell_type": "code",
   "execution_count": null,
   "metadata": {},
   "outputs": [],
   "source": []
  },
  {
   "cell_type": "code",
   "execution_count": null,
   "metadata": {},
   "outputs": [],
   "source": []
  },
  {
   "cell_type": "code",
   "execution_count": null,
   "metadata": {},
   "outputs": [],
   "source": []
  },
  {
   "cell_type": "code",
   "execution_count": null,
   "metadata": {},
   "outputs": [],
   "source": []
  },
  {
   "cell_type": "code",
   "execution_count": null,
   "metadata": {},
   "outputs": [],
   "source": []
  },
  {
   "cell_type": "code",
   "execution_count": null,
   "metadata": {},
   "outputs": [],
   "source": []
  },
  {
   "cell_type": "code",
   "execution_count": null,
   "metadata": {},
   "outputs": [],
   "source": []
  },
  {
   "cell_type": "code",
   "execution_count": null,
   "metadata": {},
   "outputs": [],
   "source": []
  },
  {
   "cell_type": "code",
   "execution_count": null,
   "metadata": {},
   "outputs": [],
   "source": []
  },
  {
   "cell_type": "code",
   "execution_count": null,
   "metadata": {},
   "outputs": [],
   "source": []
  },
  {
   "cell_type": "code",
   "execution_count": null,
   "metadata": {},
   "outputs": [],
   "source": []
  },
  {
   "cell_type": "code",
   "execution_count": null,
   "metadata": {},
   "outputs": [],
   "source": []
  },
  {
   "cell_type": "code",
   "execution_count": null,
   "metadata": {},
   "outputs": [],
   "source": []
  },
  {
   "cell_type": "code",
   "execution_count": null,
   "metadata": {},
   "outputs": [],
   "source": []
  },
  {
   "cell_type": "code",
   "execution_count": null,
   "metadata": {},
   "outputs": [],
   "source": []
  },
  {
   "cell_type": "code",
   "execution_count": null,
   "metadata": {},
   "outputs": [],
   "source": []
  },
  {
   "cell_type": "code",
   "execution_count": null,
   "metadata": {},
   "outputs": [],
   "source": []
  },
  {
   "cell_type": "code",
   "execution_count": null,
   "metadata": {},
   "outputs": [],
   "source": []
  },
  {
   "cell_type": "code",
   "execution_count": null,
   "metadata": {},
   "outputs": [],
   "source": []
  },
  {
   "cell_type": "markdown",
   "metadata": {},
   "source": [
    "# Solution implementation, not for validation it is a preparation for week 2"
   ]
  },
  {
   "cell_type": "code",
   "execution_count": 12,
   "metadata": {},
   "outputs": [
    {
     "name": "stdout",
     "output_type": "stream",
     "text": [
      "Libraries imported.\n"
     ]
    }
   ],
   "source": [
    "import numpy as np # library to handle data in a vectorized manner\n",
    "\n",
    "import pandas as pd # library for data analsysis\n",
    "pd.set_option('display.max_columns', None)\n",
    "pd.set_option('display.max_rows', None)\n",
    "\n",
    "import requests # library to handle requests\n",
    "\n",
    "#from bs4 import BeautifulSoup\n",
    "import os\n",
    "\n",
    "#!conda install -c conda-forge folium=0.5.0 --yes\n",
    "import folium # map rendering library\n",
    "\n",
    "#!conda install -c conda-forge geopy --yes\n",
    "from geopy.geocoders import Nominatim # convert an address into latitude and longitude values\n",
    "\n",
    "# Matplotlib and associated plotting modules\n",
    "import matplotlib.pyplot as plt\n",
    "import matplotlib.cm as cm\n",
    "import matplotlib.colors as colors\n",
    "%matplotlib inline\n",
    "\n",
    "print('Libraries imported.')"
   ]
  },
  {
   "cell_type": "code",
   "execution_count": 32,
   "metadata": {},
   "outputs": [],
   "source": [
    "CLIENT_ID = 'B2LGB1M5TNDZSN2CUOMS3A3LWZ05DC4S2L3EYKV10D3RCYAU' # your Foursquare ID\n",
    "CLIENT_SECRET = 'IQNCKAUJOASZ0VL0E45VU1FLO4OZYDUT1AFOTKHPSRTPVCML' # your Foursquare Secret\n",
    "VERSION = '20180605' # Foursquare API version"
   ]
  },
  {
   "cell_type": "code",
   "execution_count": 63,
   "metadata": {},
   "outputs": [],
   "source": [
    "import getpass\n",
    "from geopy.geocoders import Nominatim # module to convert an address into latitude and longitude values\n",
    "import requests\n",
    "ACCESS_TOKEN = 'B1VM2KPPEXKRFTYWXX441KNFTECPJA35X0OW5HSV5G22TH12' # your FourSquare Access Token\n",
    "CLIENT_SECRET = 'VXQHIW1GN2LHTI4TECUUDCFMIVLHHRT2JVBDTMYVE1EFZ2PC'\n",
    "VERSION = '20180605' # Foursquare API version\n",
    "LIMIT = 100 # A default Foursquare API limit value\n",
    "#CLIENT_ID = getpass.getpass('Enter your CLIENT_ID')\n",
    "CLIENT_ID = 'EAGYUIHIGUIHHQLOKPW4EFIRSZM2QOABDDDB1LLPB00ETRRJ'"
   ]
  },
  {
   "cell_type": "code",
   "execution_count": 64,
   "metadata": {},
   "outputs": [],
   "source": [
    "def geo_location(address):\n",
    "    # get geo location of address\n",
    "    geolocator = Nominatim(user_agent=\"foursquare_agent\")\n",
    "    location = geolocator.geocode(address)\n",
    "    latitude = location.latitude\n",
    "    longitude = location.longitude\n",
    "    return latitude,longitude\n",
    "\n",
    "\n",
    "def get_venues(lat,lng):\n",
    "    #set variables\n",
    "    radius=400\n",
    "    LIMIT=100\n",
    "    #url to fetch data from foursquare api\n",
    "    url = 'https://api.foursquare.com/v2/venues/explore?&client_id={}&client_secret={}&v={}&ll={},{}&radius={}&limit={}'.format(\n",
    "            CLIENT_ID, \n",
    "            CLIENT_SECRET, \n",
    "            VERSION, \n",
    "            lat, \n",
    "            lng, \n",
    "            radius, \n",
    "            LIMIT)\n",
    "    # get all the data\n",
    "    results = requests.get(url).json()\n",
    "    venue_data=results['response']['groups'][0]['items']\n",
    "    venue_details=[]\n",
    "    for row in venue_data:\n",
    "        try:\n",
    "            venue_id=row['venue']['id']\n",
    "            venue_name=row['venue']['name']\n",
    "            venue_category=row['venue']['categories'][0]['name']\n",
    "            venue_details.append([venue_id,venue_name,venue_category])\n",
    "        except KeyError:\n",
    "            pass\n",
    "    column_names=['ID','Name','Category']\n",
    "    df = pd.DataFrame(venue_details,columns=column_names)\n",
    "    return df\n",
    "\n",
    "\n",
    "def get_venue_details(venue_id):\n",
    "    #url to fetch data from foursquare api\n",
    "    url = 'https://api.foursquare.com/v2/venues/{}?&client_id={}&client_secret={}&v={}'.format(\n",
    "            venue_id,\n",
    "            CLIENT_ID, \n",
    "            CLIENT_SECRET, \n",
    "            VERSION)\n",
    "    # get all the data\n",
    "    results = requests.get(url).json()\n",
    "    print(results)\n",
    "    venue_data=results['response']['venue']\n",
    "    venue_details=[]\n",
    "    try:\n",
    "        venue_id=venue_data['id']\n",
    "        venue_name=venue_data['name']\n",
    "        venue_likes=venue_data['likes']['count']\n",
    "        venue_rating=venue_data['rating']\n",
    "        venue_tips=venue_data['tips']['count']\n",
    "        venue_details.append([venue_id,venue_name,venue_likes,venue_rating,venue_tips])\n",
    "    except KeyError:\n",
    "        pass\n",
    "    column_names=['ID','Name','Likes','Rating','Tips']\n",
    "    df = pd.DataFrame(venue_details,columns=column_names)\n",
    "    return df\n",
    "\n",
    "\n",
    "def get_new_york_data():\n",
    "    url='https://cocl.us/new_york_dataset'\n",
    "    resp=requests.get(url).json()\n",
    "    # all data is present in features label\n",
    "    features=resp['features']\n",
    "    # define the dataframe columns\n",
    "    column_names = ['Borough', 'Neighborhood', 'Latitude', 'Longitude'] \n",
    "    # instantiate the dataframe\n",
    "    new_york_data = pd.DataFrame(columns=column_names)\n",
    "    for data in features:\n",
    "        borough = data['properties']['borough'] \n",
    "        neighborhood_name = data['properties']['name']\n",
    "        neighborhood_latlon = data['geometry']['coordinates']\n",
    "        neighborhood_lat = neighborhood_latlon[1]\n",
    "        neighborhood_lon = neighborhood_latlon[0]\n",
    "        new_york_data = new_york_data.append({'Borough': borough,\n",
    "                                          'Neighborhood': neighborhood_name,\n",
    "                                          'Latitude': neighborhood_lat,\n",
    "                                          'Longitude': neighborhood_lon}, ignore_index=True)\n",
    "    return new_york_data"
   ]
  },
  {
   "cell_type": "code",
   "execution_count": 34,
   "metadata": {},
   "outputs": [
    {
     "data": {
      "text/html": [
       "<div>\n",
       "<style scoped>\n",
       "    .dataframe tbody tr th:only-of-type {\n",
       "        vertical-align: middle;\n",
       "    }\n",
       "\n",
       "    .dataframe tbody tr th {\n",
       "        vertical-align: top;\n",
       "    }\n",
       "\n",
       "    .dataframe thead th {\n",
       "        text-align: right;\n",
       "    }\n",
       "</style>\n",
       "<table border=\"1\" class=\"dataframe\">\n",
       "  <thead>\n",
       "    <tr style=\"text-align: right;\">\n",
       "      <th></th>\n",
       "      <th>Borough</th>\n",
       "      <th>Neighborhood</th>\n",
       "      <th>Latitude</th>\n",
       "      <th>Longitude</th>\n",
       "    </tr>\n",
       "  </thead>\n",
       "  <tbody>\n",
       "    <tr>\n",
       "      <th>0</th>\n",
       "      <td>Bronx</td>\n",
       "      <td>Wakefield</td>\n",
       "      <td>40.894705</td>\n",
       "      <td>-73.847201</td>\n",
       "    </tr>\n",
       "    <tr>\n",
       "      <th>1</th>\n",
       "      <td>Bronx</td>\n",
       "      <td>Co-op City</td>\n",
       "      <td>40.874294</td>\n",
       "      <td>-73.829939</td>\n",
       "    </tr>\n",
       "    <tr>\n",
       "      <th>2</th>\n",
       "      <td>Bronx</td>\n",
       "      <td>Eastchester</td>\n",
       "      <td>40.887556</td>\n",
       "      <td>-73.827806</td>\n",
       "    </tr>\n",
       "    <tr>\n",
       "      <th>3</th>\n",
       "      <td>Bronx</td>\n",
       "      <td>Fieldston</td>\n",
       "      <td>40.895437</td>\n",
       "      <td>-73.905643</td>\n",
       "    </tr>\n",
       "    <tr>\n",
       "      <th>4</th>\n",
       "      <td>Bronx</td>\n",
       "      <td>Riverdale</td>\n",
       "      <td>40.890834</td>\n",
       "      <td>-73.912585</td>\n",
       "    </tr>\n",
       "  </tbody>\n",
       "</table>\n",
       "</div>"
      ],
      "text/plain": [
       "  Borough Neighborhood   Latitude  Longitude\n",
       "0   Bronx    Wakefield  40.894705 -73.847201\n",
       "1   Bronx   Co-op City  40.874294 -73.829939\n",
       "2   Bronx  Eastchester  40.887556 -73.827806\n",
       "3   Bronx    Fieldston  40.895437 -73.905643\n",
       "4   Bronx    Riverdale  40.890834 -73.912585"
      ]
     },
     "execution_count": 34,
     "metadata": {},
     "output_type": "execute_result"
    }
   ],
   "source": [
    "ny_data = get_new_york_data()\n",
    "ny_data.head()"
   ]
  },
  {
   "cell_type": "code",
   "execution_count": 35,
   "metadata": {},
   "outputs": [
    {
     "data": {
      "text/plain": [
       "(306, 4)"
      ]
     },
     "execution_count": 35,
     "metadata": {},
     "output_type": "execute_result"
    }
   ],
   "source": [
    "ny_data.shape\n"
   ]
  },
  {
   "cell_type": "code",
   "execution_count": 36,
   "metadata": {},
   "outputs": [
    {
     "data": {
      "text/plain": [
       "5"
      ]
     },
     "execution_count": 36,
     "metadata": {},
     "output_type": "execute_result"
    }
   ],
   "source": [
    "ny_data['Borough'].nunique()"
   ]
  },
  {
   "cell_type": "code",
   "execution_count": 65,
   "metadata": {
    "scrolled": true
   },
   "outputs": [
    {
     "ename": "KeyError",
     "evalue": "'groups'",
     "output_type": "error",
     "traceback": [
      "\u001b[1;31m---------------------------------------------------------------------------\u001b[0m",
      "\u001b[1;31mKeyError\u001b[0m                                  Traceback (most recent call last)",
      "\u001b[1;32m<ipython-input-65-83c8ed8bcde3>\u001b[0m in \u001b[0;36m<module>\u001b[1;34m\u001b[0m\n\u001b[0;32m      6\u001b[0m \u001b[1;32mfor\u001b[0m \u001b[0mrow\u001b[0m \u001b[1;32min\u001b[0m \u001b[0mny_data\u001b[0m\u001b[1;33m.\u001b[0m\u001b[0mvalues\u001b[0m\u001b[1;33m.\u001b[0m\u001b[0mtolist\u001b[0m\u001b[1;33m(\u001b[0m\u001b[1;33m)\u001b[0m\u001b[1;33m:\u001b[0m\u001b[1;33m\u001b[0m\u001b[1;33m\u001b[0m\u001b[0m\n\u001b[0;32m      7\u001b[0m     \u001b[0mBorough\u001b[0m\u001b[1;33m,\u001b[0m \u001b[0mNeighborhood\u001b[0m\u001b[1;33m,\u001b[0m \u001b[0mLatitude\u001b[0m\u001b[1;33m,\u001b[0m \u001b[0mLongitude\u001b[0m\u001b[1;33m=\u001b[0m\u001b[0mrow\u001b[0m\u001b[1;33m\u001b[0m\u001b[1;33m\u001b[0m\u001b[0m\n\u001b[1;32m----> 8\u001b[1;33m     \u001b[0mvenues\u001b[0m \u001b[1;33m=\u001b[0m \u001b[0mget_venues\u001b[0m\u001b[1;33m(\u001b[0m\u001b[0mLatitude\u001b[0m\u001b[1;33m,\u001b[0m\u001b[0mLongitude\u001b[0m\u001b[1;33m)\u001b[0m\u001b[1;33m\u001b[0m\u001b[1;33m\u001b[0m\u001b[0m\n\u001b[0m\u001b[0;32m      9\u001b[0m     \u001b[0mindian_restaurants\u001b[0m\u001b[1;33m=\u001b[0m\u001b[0mvenues\u001b[0m\u001b[1;33m[\u001b[0m\u001b[0mvenues\u001b[0m\u001b[1;33m[\u001b[0m\u001b[1;34m'Category'\u001b[0m\u001b[1;33m]\u001b[0m\u001b[1;33m==\u001b[0m\u001b[1;34m'Vegetarian / Vegan Restaurant'\u001b[0m\u001b[1;33m]\u001b[0m\u001b[1;33m\u001b[0m\u001b[1;33m\u001b[0m\u001b[0m\n\u001b[0;32m     10\u001b[0m     \u001b[1;31m#print('(',count,'/',len(ny_data),')','Indian Restaurants in '+Neighborhood+', '+Borough+':'+str(len(indian_restaurants)))\u001b[0m\u001b[1;33m\u001b[0m\u001b[1;33m\u001b[0m\u001b[1;33m\u001b[0m\u001b[0m\n",
      "\u001b[1;32m<ipython-input-64-84733b02a2aa>\u001b[0m in \u001b[0;36mget_venues\u001b[1;34m(lat, lng)\u001b[0m\n\u001b[0;32m     23\u001b[0m     \u001b[1;31m# get all the data\u001b[0m\u001b[1;33m\u001b[0m\u001b[1;33m\u001b[0m\u001b[1;33m\u001b[0m\u001b[0m\n\u001b[0;32m     24\u001b[0m     \u001b[0mresults\u001b[0m \u001b[1;33m=\u001b[0m \u001b[0mrequests\u001b[0m\u001b[1;33m.\u001b[0m\u001b[0mget\u001b[0m\u001b[1;33m(\u001b[0m\u001b[0murl\u001b[0m\u001b[1;33m)\u001b[0m\u001b[1;33m.\u001b[0m\u001b[0mjson\u001b[0m\u001b[1;33m(\u001b[0m\u001b[1;33m)\u001b[0m\u001b[1;33m\u001b[0m\u001b[1;33m\u001b[0m\u001b[0m\n\u001b[1;32m---> 25\u001b[1;33m     \u001b[0mvenue_data\u001b[0m\u001b[1;33m=\u001b[0m\u001b[0mresults\u001b[0m\u001b[1;33m[\u001b[0m\u001b[1;34m'response'\u001b[0m\u001b[1;33m]\u001b[0m\u001b[1;33m[\u001b[0m\u001b[1;34m'groups'\u001b[0m\u001b[1;33m]\u001b[0m\u001b[1;33m[\u001b[0m\u001b[1;36m0\u001b[0m\u001b[1;33m]\u001b[0m\u001b[1;33m[\u001b[0m\u001b[1;34m'items'\u001b[0m\u001b[1;33m]\u001b[0m\u001b[1;33m\u001b[0m\u001b[1;33m\u001b[0m\u001b[0m\n\u001b[0m\u001b[0;32m     26\u001b[0m     \u001b[0mvenue_details\u001b[0m\u001b[1;33m=\u001b[0m\u001b[1;33m[\u001b[0m\u001b[1;33m]\u001b[0m\u001b[1;33m\u001b[0m\u001b[1;33m\u001b[0m\u001b[0m\n\u001b[0;32m     27\u001b[0m     \u001b[1;32mfor\u001b[0m \u001b[0mrow\u001b[0m \u001b[1;32min\u001b[0m \u001b[0mvenue_data\u001b[0m\u001b[1;33m:\u001b[0m\u001b[1;33m\u001b[0m\u001b[1;33m\u001b[0m\u001b[0m\n",
      "\u001b[1;31mKeyError\u001b[0m: 'groups'"
     ]
    }
   ],
   "source": [
    "# queens has most neighborhoods\n",
    "# prepare neighborhood list that contains Indian restaurants\n",
    "column_names=['Borough', 'Neighborhood', 'ID','Name']\n",
    "indian_rest_ny=pd.DataFrame(columns=column_names)\n",
    "#count=1\n",
    "for row in ny_data.values.tolist():\n",
    "    Borough, Neighborhood, Latitude, Longitude=row\n",
    "    venues = get_venues(Latitude,Longitude)\n",
    "    indian_restaurants=venues[venues['Category']=='Vegetarian / Vegan Restaurant']   \n",
    "    #print('(',count,'/',len(ny_data),')','Indian Restaurants in '+Neighborhood+', '+Borough+':'+str(len(indian_restaurants)))\n",
    "    #print(row)\n",
    "    for resturant_detail in indian_restaurants.values.tolist():\n",
    "        id, name , category=resturant_detail\n",
    "        indian_rest_ny = indian_rest_ny.append({'Borough': Borough,\n",
    "                                                'Neighborhood': Neighborhood, \n",
    "                                                'ID': id,\n",
    "                                                'Name' : name\n",
    "                                               }, ignore_index=True)\n",
    "    #count+=1"
   ]
  },
  {
   "cell_type": "code",
   "execution_count": 44,
   "metadata": {},
   "outputs": [
    {
     "data": {
      "text/html": [
       "<div>\n",
       "<style scoped>\n",
       "    .dataframe tbody tr th:only-of-type {\n",
       "        vertical-align: middle;\n",
       "    }\n",
       "\n",
       "    .dataframe tbody tr th {\n",
       "        vertical-align: top;\n",
       "    }\n",
       "\n",
       "    .dataframe thead th {\n",
       "        text-align: right;\n",
       "    }\n",
       "</style>\n",
       "<table border=\"1\" class=\"dataframe\">\n",
       "  <thead>\n",
       "    <tr style=\"text-align: right;\">\n",
       "      <th></th>\n",
       "      <th>Borough</th>\n",
       "      <th>Neighborhood</th>\n",
       "      <th>ID</th>\n",
       "      <th>Name</th>\n",
       "    </tr>\n",
       "  </thead>\n",
       "  <tbody>\n",
       "    <tr>\n",
       "      <th>0</th>\n",
       "      <td>Bronx</td>\n",
       "      <td>Belmont</td>\n",
       "      <td>5a5be0a81108ba5892aa3d0d</td>\n",
       "      <td>Çka Ka Qëllu</td>\n",
       "    </tr>\n",
       "    <tr>\n",
       "      <th>1</th>\n",
       "      <td>Brooklyn</td>\n",
       "      <td>Brighton Beach</td>\n",
       "      <td>4e23642088774a43b77e02c3</td>\n",
       "      <td>Cafe Euroasia</td>\n",
       "    </tr>\n",
       "    <tr>\n",
       "      <th>2</th>\n",
       "      <td>Brooklyn</td>\n",
       "      <td>Brighton Beach</td>\n",
       "      <td>4beed18235dc0f47b952405b</td>\n",
       "      <td>Домашняя кухня</td>\n",
       "    </tr>\n",
       "    <tr>\n",
       "      <th>3</th>\n",
       "      <td>Manhattan</td>\n",
       "      <td>Lenox Hill</td>\n",
       "      <td>5d02cb063731ee002c297fe9</td>\n",
       "      <td>Oda House</td>\n",
       "    </tr>\n",
       "    <tr>\n",
       "      <th>4</th>\n",
       "      <td>Manhattan</td>\n",
       "      <td>Greenwich Village</td>\n",
       "      <td>53bacc8f498e55a100c4010e</td>\n",
       "      <td>Old Tbilisi Garden</td>\n",
       "    </tr>\n",
       "    <tr>\n",
       "      <th>5</th>\n",
       "      <td>Queens</td>\n",
       "      <td>Rockaway Beach</td>\n",
       "      <td>5777fc88498ec5cc1755d079</td>\n",
       "      <td>Uma's</td>\n",
       "    </tr>\n",
       "    <tr>\n",
       "      <th>6</th>\n",
       "      <td>Staten Island</td>\n",
       "      <td>Rosebank</td>\n",
       "      <td>57b2645dcd1036625d521e0b</td>\n",
       "      <td>Korzo Klub</td>\n",
       "    </tr>\n",
       "    <tr>\n",
       "      <th>7</th>\n",
       "      <td>Staten Island</td>\n",
       "      <td>Grant City</td>\n",
       "      <td>4fa6a903e4b0bbcd4ad315fd</td>\n",
       "      <td>Sorry babushka</td>\n",
       "    </tr>\n",
       "    <tr>\n",
       "      <th>8</th>\n",
       "      <td>Staten Island</td>\n",
       "      <td>Clifton</td>\n",
       "      <td>57b2645dcd1036625d521e0b</td>\n",
       "      <td>Korzo Klub</td>\n",
       "    </tr>\n",
       "    <tr>\n",
       "      <th>9</th>\n",
       "      <td>Bronx</td>\n",
       "      <td>Bronxdale</td>\n",
       "      <td>4bae4854f964a520ec9c3be3</td>\n",
       "      <td>Dukagjini Burek</td>\n",
       "    </tr>\n",
       "  </tbody>\n",
       "</table>\n",
       "</div>"
      ],
      "text/plain": [
       "         Borough       Neighborhood                        ID  \\\n",
       "0          Bronx            Belmont  5a5be0a81108ba5892aa3d0d   \n",
       "1       Brooklyn     Brighton Beach  4e23642088774a43b77e02c3   \n",
       "2       Brooklyn     Brighton Beach  4beed18235dc0f47b952405b   \n",
       "3      Manhattan         Lenox Hill  5d02cb063731ee002c297fe9   \n",
       "4      Manhattan  Greenwich Village  53bacc8f498e55a100c4010e   \n",
       "5         Queens     Rockaway Beach  5777fc88498ec5cc1755d079   \n",
       "6  Staten Island           Rosebank  57b2645dcd1036625d521e0b   \n",
       "7  Staten Island         Grant City  4fa6a903e4b0bbcd4ad315fd   \n",
       "8  Staten Island            Clifton  57b2645dcd1036625d521e0b   \n",
       "9          Bronx          Bronxdale  4bae4854f964a520ec9c3be3   \n",
       "\n",
       "                 Name  \n",
       "0        Çka Ka Qëllu  \n",
       "1       Cafe Euroasia  \n",
       "2      Домашняя кухня  \n",
       "3           Oda House  \n",
       "4  Old Tbilisi Garden  \n",
       "5               Uma's  \n",
       "6          Korzo Klub  \n",
       "7      Sorry babushka  \n",
       "8          Korzo Klub  \n",
       "9     Dukagjini Burek  "
      ]
     },
     "execution_count": 44,
     "metadata": {},
     "output_type": "execute_result"
    }
   ],
   "source": [
    "indian_rest_ny"
   ]
  },
  {
   "cell_type": "code",
   "execution_count": 46,
   "metadata": {},
   "outputs": [
    {
     "data": {
      "image/png": "[encoded data removed]",
      "text/plain": [
       "<Figure size 720x360 with 1 Axes>"
      ]
     },
     "metadata": {
      "needs_background": "light"
     },
     "output_type": "display_data"
    }
   ],
   "source": [
    "clr='green'\n",
    "indian_rest_ny.groupby('Borough')['ID'].count().plot.bar(figsize=(10,5), color=clr)\n",
    "plt.title('Indian Restaurants per Borough: NYC', fontsize = 20)\n",
    "plt.xlabel('Borough', fontsize = 15)\n",
    "plt.ylabel('No. of Indian Restaurants', fontsize=15)\n",
    "plt.xticks(rotation = 'horizontal')\n",
    "plt.legend()\n",
    "plt.show()"
   ]
  },
  {
   "cell_type": "code",
   "execution_count": 47,
   "metadata": {},
   "outputs": [
    {
     "data": {
      "image/png": "[encoded data removed]",
      "text/plain": [
       "<Figure size 720x360 with 1 Axes>"
      ]
     },
     "metadata": {
      "needs_background": "light"
     },
     "output_type": "display_data"
    }
   ],
   "source": [
    "NOofNeigh = 6 # top number for graphing all the same past 6\n",
    "indian_rest_ny.groupby('Neighborhood')['ID'].count().nlargest(NOofNeigh).plot.bar(figsize=(10,5), color=clr)\n",
    "plt.title('Indian Restaurants per Neighborhood: NYC', fontsize = 20)\n",
    "plt.xlabel('Neighborhood', fontsize = 15)\n",
    "plt.ylabel('No. of Indian Restaurants', fontsize=15)\n",
    "plt.xticks(rotation = 'horizontal')\n",
    "plt.legend()\n",
    "plt.show()"
   ]
  },
  {
   "cell_type": "code",
   "execution_count": 48,
   "metadata": {},
   "outputs": [
    {
     "name": "stdout",
     "output_type": "stream",
     "text": [
      "{'meta': {'code': 200, 'requestId': '60ba011ecb70006492363775'}, 'response': {'venue': {'id': '5a5be0a81108ba5892aa3d0d', 'name': 'Çka Ka Qëllu', 'contact': {'phone': '7189336194', 'formattedPhone': '(718) 933-6194'}, 'location': {'address': '2324-2370 Hughes Ave.', 'lat': 40.853835, 'lng': -73.888021, 'labeledLatLngs': [{'label': 'display', 'lat': 40.853835, 'lng': -73.888021}], 'postalCode': '10458', 'cc': 'US', 'city': 'New York', 'state': 'NY', 'country': 'United States', 'formattedAddress': ['2324-2370 Hughes Ave.', 'New York, NY 10458', 'United States']}, 'canonicalUrl': 'https://foursquare.com/v/%C3%A7ka-ka-q%C3%ABllu/5a5be0a81108ba5892aa3d0d', 'categories': [{'id': '4bf58dd8d48988d109941735', 'name': 'Eastern European Restaurant', 'pluralName': 'Eastern European Restaurants', 'shortName': 'Eastern European', 'icon': {'prefix': 'https://ss3.4sqi.net/img/categories_v2/food/default_', 'suffix': '.png'}, 'primary': True}], 'verified': False, 'stats': {'tipCount': 5}, 'price': {'tier': 2, 'message': 'Moderate', 'currency': '$'}, 'likes': {'count': 12, 'groups': [{'type': 'others', 'count': 12, 'items': []}], 'summary': '12 Likes'}, 'dislike': False, 'ok': False, 'rating': 8.2, 'ratingColor': '73CF42', 'ratingSignals': 17, 'allowMenuUrlEdit': True, 'beenHere': {'count': 0, 'unconfirmedCount': 0, 'marked': False, 'lastCheckinExpiredAt': 0}, 'specials': {'count': 0, 'items': []}, 'photos': {'count': 6, 'groups': [{'type': 'venue', 'name': 'Venue photos', 'count': 6, 'items': [{'id': '5e5fe91903634e0008a41f74', 'createdAt': 1583343897, 'source': {'name': 'Swarm for iOS', 'url': 'https://www.swarmapp.com'}, 'prefix': 'https://fastly.4sqi.net/img/general/', 'suffix': '/65313640_9DoagzLekm2WUHKR-YI3RqqRGY62PyHwaczl5G2K8Mc.jpg', 'width': 1440, 'height': 1920, 'visibility': 'public'}]}]}, 'reasons': {'count': 0, 'items': []}, 'hereNow': {'count': 0, 'summary': 'Nobody here', 'groups': []}, 'createdAt': 1515970728, 'tips': {'count': 5, 'groups': [{'type': 'others', 'name': 'All tips', 'count': 5, 'items': [{'id': '5ce457fdb25fee002cb16018', 'createdAt': 1558468605, 'text': 'The mixed grill and crepes were good. The cheese dips were bland, but I may not have understood the point of it.', 'type': 'user', 'canonicalUrl': 'https://foursquare.com/item/5ce457fdb25fee002cb16018', 'lang': 'en', 'likes': {'count': 0, 'groups': []}, 'logView': True, 'agreeCount': 0, 'disagreeCount': 0, 'todo': {'count': 0}, 'user': {'firstName': 'Vansi', 'countryCode': 'US'}, 'authorInteractionType': 'liked'}]}]}, 'shortUrl': 'http://4sq.com/2Dh13Hm', 'timeZone': 'America/New_York', 'listed': {'count': 43, 'groups': [{'type': 'others', 'name': 'Lists from other people', 'count': 43, 'items': [{'id': '560a0565498e9f1960f46baf', 'name': 'NY Food Files II', 'description': '', 'type': 'others', 'user': {'firstName': 'Jason', 'lastName': 'F', 'countryCode': 'US'}, 'editable': False, 'public': True, 'collaborative': False, 'url': '/thefeirmanator/list/ny-food-files-ii', 'canonicalUrl': 'https://foursquare.com/thefeirmanator/list/ny-food-files-ii', 'createdAt': 1443497317, 'updatedAt': 1604336581, 'photo': {'id': '52b605ff498e753aed6c3a45', 'createdAt': 1387660799, 'prefix': 'https://fastly.4sqi.net/img/general/', 'suffix': '/60451728_e_zE4NHI4F0xVfpwNGLj5VuPD4HoHhoncWD-DQ3uwJc.jpg', 'width': 1600, 'height': 1060, 'visibility': 'public'}, 'followers': {'count': 1}, 'listItems': {'count': 177, 'items': [{'id': 'v5a5be0a81108ba5892aa3d0d', 'createdAt': 1546544347}]}}, {'id': '536bfd11498e5706e39a7456', 'name': 'NYC EATS', 'description': '', 'type': 'others', 'user': {'firstName': 'Ami', 'lastName': 'H', 'address': '', 'city': '', 'state': '', 'countryCode': 'US'}, 'editable': False, 'public': True, 'collaborative': True, 'url': '/zonic_boom/list/nyc-eats', 'canonicalUrl': 'https://foursquare.com/zonic_boom/list/nyc-eats', 'createdAt': 1399586065, 'updatedAt': 1622746647, 'photo': {'id': '524791e0498e8ca3d9275950', 'createdAt': 1380422112, 'prefix': 'https://fastly.4sqi.net/img/general/', 'suffix': '/2031815_HH73TM2TSlknSLDzTAHzhr56o4Fx8wACCMuqcEZLrPg.jpg', 'width': 720, 'height': 720, 'visibility': 'public'}, 'followers': {'count': 2}, 'listItems': {'count': 349, 'items': [{'id': 'v5a5be0a81108ba5892aa3d0d', 'createdAt': 1622746647}]}}, {'id': '58d0135998f8aa10b4aedd71', 'name': 'NYC', 'description': '', 'type': 'others', 'user': {'firstName': 'Sam', 'lastName': 'G', 'countryCode': 'US'}, 'editable': False, 'public': True, 'collaborative': False, 'url': '/user/125417687/list/nyc', 'canonicalUrl': 'https://foursquare.com/user/125417687/list/nyc', 'createdAt': 1490031449, 'updatedAt': 1620866084, 'photo': {'id': '5131add5e4b054cc67abf059', 'createdAt': 1362210261, 'prefix': 'https://fastly.4sqi.net/img/general/', 'suffix': '/4486_8LvQiaLG_wnviOoCO7ojuIgtAI8XiwPoTZlu3q70J2Q.jpg', 'width': 612, 'height': 612, 'visibility': 'public'}, 'followers': {'count': 2}, 'listItems': {'count': 197, 'items': [{'id': 'v5a5be0a81108ba5892aa3d0d', 'createdAt': 1576174335}]}}, {'id': '58a9aa52bf1a6d058879e2b9', 'name': 'NYC Hit list', 'description': '', 'type': 'others', 'user': {'firstName': 'Coolhand', 'lastName': 'M', 'countryCode': 'US'}, 'editable': False, 'public': True, 'collaborative': False, 'url': '/user/136287347/list/nyc-hit-list', 'canonicalUrl': 'https://foursquare.com/user/136287347/list/nyc-hit-list', 'createdAt': 1487514194, 'updatedAt': 1561673687, 'photo': {'id': '50a69635fe70df02fd3559ca', 'createdAt': 1353094709, 'prefix': 'https://fastly.4sqi.net/img/general/', 'suffix': '/24933846_Y5uYI-ABpDrileaQ5BxVGchHl3r6Z51dLdpMHykfos4.jpg', 'width': 490, 'height': 640, 'visibility': 'public'}, 'followers': {'count': 1}, 'listItems': {'count': 72, 'items': [{'id': 'v5a5be0a81108ba5892aa3d0d', 'createdAt': 1552868932}]}}]}]}, 'hours': {'status': 'Closed until 11:00 AM', 'richStatus': {'entities': [], 'text': 'Closed until 11:00 AM'}, 'isOpen': False, 'isLocalHoliday': False, 'dayData': [], 'timeframes': [{'days': 'Mon–Sun', 'includesToday': True, 'open': [{'renderedTime': '11:00 AM–10:00 PM'}], 'segments': []}]}, 'seasonalHours': [], 'defaultHours': {'status': 'Closed until 11:00 AM', 'richStatus': {'entities': [], 'text': 'Closed until 11:00 AM'}, 'isOpen': False, 'isLocalHoliday': False, 'dayData': [], 'timeframes': [{'days': 'Mon–Sun', 'includesToday': True, 'open': [{'renderedTime': '11:00 AM–10:00 PM'}], 'segments': []}]}, 'pageUpdates': {'count': 0, 'items': []}, 'inbox': {'count': 0, 'items': []}, 'attributes': {'groups': [{'type': 'price', 'name': 'Price', 'summary': '$$', 'count': 1, 'items': [{'displayName': 'Price', 'displayValue': '$$', 'priceTier': 2}]}, {'type': 'reservations', 'name': 'Reservations', 'summary': 'Reservations', 'count': 3, 'items': [{'displayName': 'Reservations', 'displayValue': 'Yes'}]}, {'type': 'payments', 'name': 'Credit Cards', 'summary': 'Credit Cards', 'count': 7, 'items': [{'displayName': 'Credit Cards', 'displayValue': 'Yes (incl. Diners Club & American Express)'}]}, {'type': 'music', 'name': 'Music', 'summary': 'Music', 'count': 3, 'items': [{'displayName': 'Music', 'displayValue': 'Yes'}]}, {'type': 'wifi', 'name': 'Wi-Fi', 'summary': 'Wi-Fi', 'count': 1, 'items': [{'displayName': 'Wi-Fi', 'displayValue': 'Yes'}]}, {'type': 'serves', 'name': 'Menus', 'summary': 'Brunch, Breakfast & more', 'count': 8, 'items': [{'displayName': 'Breakfast', 'displayValue': 'Breakfast'}, {'displayName': 'Brunch', 'displayValue': 'Brunch'}, {'displayName': 'Lunch', 'displayValue': 'Lunch'}, {'displayName': 'Dinner', 'displayValue': 'Dinner'}, {'displayName': 'Dessert', 'displayValue': 'Dessert'}, {'displayName': 'Happy Hour', 'displayValue': 'Happy Hour'}, {'displayName': 'Tasting Menu', 'displayValue': 'Tasting Menu'}]}, {'type': 'drinks', 'name': 'Drinks', 'summary': 'Wine', 'count': 5, 'items': [{'displayName': 'Wine', 'displayValue': 'Wine'}]}, {'type': 'diningOptions', 'name': 'Dining Options', 'summary': 'Take-out & Delivery', 'count': 5, 'items': [{'displayName': 'Take-out', 'displayValue': 'Take-out'}, {'displayName': 'Delivery', 'displayValue': 'Delivery'}]}, {'type': 'parking', 'name': 'Parking', 'summary': 'Street Parking', 'count': 5, 'items': [{'displayName': 'Street Parking', 'displayValue': 'Street'}]}, {'type': 'restroom', 'name': 'Restroom', 'summary': 'Restroom', 'count': 1, 'items': [{'displayName': 'Restroom', 'displayValue': 'Yes'}]}]}, 'bestPhoto': {'id': '5e5fe91903634e0008a41f74', 'createdAt': 1583343897, 'source': {'name': 'Swarm for iOS', 'url': 'https://www.swarmapp.com'}, 'prefix': 'https://fastly.4sqi.net/img/general/', 'suffix': '/65313640_9DoagzLekm2WUHKR-YI3RqqRGY62PyHwaczl5G2K8Mc.jpg', 'width': 1440, 'height': 1920, 'visibility': 'public'}, 'colors': {'highlightColor': {'photoId': '5e5fe91903634e0008a41f74', 'value': -13625344}, 'highlightTextColor': {'photoId': '5e5fe91903634e0008a41f74', 'value': -1}, 'algoVersion': 3}}}}\n",
      "                         ID          Name  Likes  Rating  Tips\n",
      "0  5a5be0a81108ba5892aa3d0d  Çka Ka Qëllu     12     8.2     5\n"
     ]
    },
    {
     "name": "stdout",
     "output_type": "stream",
     "text": [
      "{'meta': {'code': 200, 'requestId': '60ba011f193c26055663f1f4'}, 'response': {'venue': {'id': '4e23642088774a43b77e02c3', 'name': 'Cafe Euroasia', 'contact': {'phone': '7188910008', 'formattedPhone': '(718) 891-0008'}, 'location': {'address': '602 Brighton Beach Ave', 'lat': 40.577408, 'lng': -73.961244, 'labeledLatLngs': [{'label': 'display', 'lat': 40.577408, 'lng': -73.961244}], 'postalCode': '11235', 'cc': 'US', 'city': 'Brooklyn', 'state': 'NY', 'country': 'United States', 'formattedAddress': ['602 Brighton Beach Ave', 'Brooklyn, NY 11235', 'United States']}, 'canonicalUrl': 'https://foursquare.com/v/cafe-euroasia/4e23642088774a43b77e02c3', 'categories': [{'id': '4bf58dd8d48988d109941735', 'name': 'Eastern European Restaurant', 'pluralName': 'Eastern European Restaurants', 'shortName': 'Eastern European', 'icon': {'prefix': 'https://ss3.4sqi.net/img/categories_v2/food/default_', 'suffix': '.png'}, 'primary': True}, {'id': '4bf58dd8d48988d142941735', 'name': 'Asian Restaurant', 'pluralName': 'Asian Restaurants', 'shortName': 'Asian', 'icon': {'prefix': 'https://ss3.4sqi.net/img/categories_v2/food/asian_', 'suffix': '.png'}}], 'verified': False, 'stats': {'tipCount': 7}, 'url': 'http://cafe-euroasia.com', 'price': {'tier': 2, 'message': 'Moderate', 'currency': '$'}, 'likes': {'count': 12, 'groups': [{'type': 'others', 'count': 12, 'items': []}], 'summary': '12 Likes'}, 'dislike': False, 'ok': False, 'rating': 7.4, 'ratingColor': 'C5DE35', 'ratingSignals': 21, 'allowMenuUrlEdit': True, 'beenHere': {'count': 0, 'unconfirmedCount': 0, 'marked': False, 'lastCheckinExpiredAt': 0}, 'specials': {'count': 0, 'items': []}, 'photos': {'count': 11, 'groups': [{'type': 'venue', 'name': 'Venue photos', 'count': 11, 'items': [{'id': '5d6acc460181700008c20f25', 'createdAt': 1567280198, 'source': {'name': 'Swarm for iOS', 'url': 'https://www.swarmapp.com'}, 'prefix': 'https://fastly.4sqi.net/img/general/', 'suffix': '/49591790_YV0zSoS9jbum4I0y35JYvhXriDaJYuvpdRBsZht3HfQ.jpg', 'width': 1920, 'height': 1440, 'visibility': 'public'}]}]}, 'reasons': {'count': 0, 'items': []}, 'hereNow': {'count': 0, 'summary': 'Nobody here', 'groups': []}, 'createdAt': 1310942240, 'tips': {'count': 7, 'groups': [{'type': 'others', 'name': 'All tips', 'count': 7, 'items': [{'id': '52c30953498ead6a476a4b69', 'createdAt': 1388513619, 'text': 'Это место нам порекомендовал русский знакомый, который уже 33 года живет в Нью-Йорке, и хорошо знает весь Брайтон. Оно определенно того стоит. Лагман, солянка, плов, шашлык - все отлично. Рекомендую', 'type': 'user', 'canonicalUrl': 'https://foursquare.com/item/52c30953498ead6a476a4b69', 'lang': 'ru', 'likes': {'count': 3, 'groups': [{'type': 'others', 'count': 3, 'items': [{'firstName': 'Anastasia', 'lastName': 'N', 'countryCode': 'US'}, {'firstName': 'Kate', 'lastName': 'K', 'countryCode': 'RU'}]}], 'summary': '3 likes'}, 'logView': True, 'agreeCount': 3, 'disagreeCount': 0, 'todo': {'count': 0}, 'user': {'firstName': 'D', 'lastName': 'D', 'countryCode': 'RU'}}]}]}, 'shortUrl': 'http://4sq.com/rejcdf', 'timeZone': 'America/New_York', 'listed': {'count': 8, 'groups': [{'type': 'others', 'name': 'Lists from other people', 'count': 8, 'items': [{'id': '5862e25581907929d7b808f5', 'name': 'Brooklyn?', 'description': '', 'type': 'others', 'user': {'firstName': 'Sabih', 'lastName': 'R', 'countryCode': 'US'}, 'editable': False, 'public': True, 'collaborative': False, 'url': '/user/211602417/list/brooklyn', 'canonicalUrl': 'https://foursquare.com/user/211602417/list/brooklyn', 'createdAt': 1482875477, 'updatedAt': 1546876182, 'photo': {'id': '582fdd4f9168026ebfceec17', 'createdAt': 1479531855, 'prefix': 'https://fastly.4sqi.net/img/general/', 'suffix': '/18841554_Ceoj94BkS-_KDI4nENjmtkuw0ia8zxYCyHu_1CTMN9o.jpg', 'width': 1440, 'height': 1920, 'visibility': 'public'}, 'followers': {'count': 0}, 'listItems': {'count': 84, 'items': [{'id': 'v4e23642088774a43b77e02c3', 'createdAt': 1524271161}]}}, {'id': '50fc955de4b0a676c6a557f7', 'name': 'BK Restaurants To-Do', 'description': '', 'type': 'others', 'user': {'firstName': 'Naqeeb', 'lastName': 'M', 'countryCode': 'US'}, 'editable': False, 'public': True, 'collaborative': False, 'url': '/user/44883100/list/bk-restaurants-todo', 'canonicalUrl': 'https://foursquare.com/user/44883100/list/bk-restaurants-todo', 'createdAt': 1358730589, 'updatedAt': 1363136793, 'followers': {'count': 0}, 'listItems': {'count': 2, 'items': [{'id': 'v4e23642088774a43b77e02c3', 'createdAt': 1363136793}]}}, {'id': '539b1c31498e42cdae19a6d5', 'name': 'to-do NY', 'description': '', 'type': 'others', 'user': {'firstName': 'Joey', 'lastName': 'G', 'countryCode': 'US'}, 'editable': False, 'public': True, 'collaborative': True, 'url': '/joeygolaw/list/todo-ny', 'canonicalUrl': 'https://foursquare.com/joeygolaw/list/todo-ny', 'createdAt': 1402674225, 'updatedAt': 1580279031, 'followers': {'count': 2}, 'listItems': {'count': 171, 'items': [{'id': 'v4e23642088774a43b77e02c3', 'createdAt': 1565223033}]}}, {'id': '59ff35357564f740e4a90344', 'name': 'Hit List', 'description': '', 'type': 'others', 'user': {'firstName': 'lovethesecities.com', 'countryCode': 'US'}, 'editable': False, 'public': True, 'collaborative': False, 'url': '/lovethesecities/list/hit-list', 'canonicalUrl': 'https://foursquare.com/lovethesecities/list/hit-list', 'createdAt': 1509897525, 'updatedAt': 1583877675, 'photo': {'id': '4fb3f40de4b000a6da513b27', 'createdAt': 1337193485, 'prefix': 'https://fastly.4sqi.net/img/general/', 'suffix': '/VbUfs2esL258B39pIZFhbwUThHXtJVPKZZ8MmOrfhjk.jpg', 'width': 540, 'height': 720, 'visibility': 'public'}, 'followers': {'count': 0}, 'listItems': {'count': 350, 'items': [{'id': 'v4e23642088774a43b77e02c3', 'createdAt': 1530900511}]}}]}]}, 'seasonalHours': [], 'pageUpdates': {'count': 0, 'items': []}, 'inbox': {'count': 0, 'items': []}, 'attributes': {'groups': [{'type': 'price', 'name': 'Price', 'summary': '$$', 'count': 1, 'items': [{'displayName': 'Price', 'displayValue': '$$', 'priceTier': 2}]}, {'type': 'reservations', 'name': 'Reservations', 'summary': 'Reservations', 'count': 3, 'items': [{'displayName': 'Reservations', 'displayValue': 'Yes'}]}, {'type': 'outdoorSeating', 'name': 'Outdoor Seating', 'count': 1, 'items': [{'displayName': 'Outdoor Seating', 'displayValue': 'No'}]}, {'type': 'drinks', 'name': 'Drinks', 'summary': 'BYO', 'count': 5, 'items': [{'displayName': 'BYO', 'displayValue': 'BYO'}]}]}, 'bestPhoto': {'id': '5d6acc460181700008c20f25', 'createdAt': 1567280198, 'source': {'name': 'Swarm for iOS', 'url': 'https://www.swarmapp.com'}, 'prefix': 'https://fastly.4sqi.net/img/general/', 'suffix': '/49591790_YV0zSoS9jbum4I0y35JYvhXriDaJYuvpdRBsZht3HfQ.jpg', 'width': 1920, 'height': 1440, 'visibility': 'public'}, 'colors': {'highlightColor': {'photoId': '5d6acc460181700008c20f25', 'value': -4671312}, 'highlightTextColor': {'photoId': '5d6acc460181700008c20f25', 'value': -16777216}, 'algoVersion': 3}}}}\n",
      "                         ID           Name  Likes  Rating  Tips\n",
      "0  4e23642088774a43b77e02c3  Cafe Euroasia     12     7.4     7\n",
      "{'meta': {'code': 200, 'requestId': '60ba011f7bdef64dd7b6ec8b'}, 'response': {'venue': {'id': '4beed18235dc0f47b952405b', 'name': 'Домашняя кухня', 'contact': {}, 'location': {'address': '504 Brighton Beach Ave', 'crossStreet': 'Brighton 5th st', 'lat': 40.577244, 'lng': -73.962071, 'labeledLatLngs': [{'label': 'display', 'lat': 40.577244, 'lng': -73.962071}], 'postalCode': '11235', 'cc': 'US', 'city': 'Brooklyn', 'state': 'NY', 'country': 'United States', 'formattedAddress': ['504 Brighton Beach Ave (Brighton 5th st)', 'Brooklyn, NY 11235', 'United States']}, 'canonicalUrl': 'https://foursquare.com/v/%D0%B4%D0%BE%D0%BC%D0%B0%D1%88%D0%BD%D1%8F%D1%8F-%D0%BA%D1%83%D1%85%D0%BD%D1%8F/4beed18235dc0f47b952405b', 'categories': [{'id': '4bf58dd8d48988d109941735', 'name': 'Eastern European Restaurant', 'pluralName': 'Eastern European Restaurants', 'shortName': 'Eastern European', 'icon': {'prefix': 'https://ss3.4sqi.net/img/categories_v2/food/default_', 'suffix': '.png'}, 'primary': True}], 'verified': False, 'stats': {'tipCount': 4}, 'price': {'tier': 2, 'message': 'Moderate', 'currency': '$'}, 'likes': {'count': 7, 'groups': [{'type': 'others', 'count': 7, 'items': [{'firstName': 'Nikita', 'lastName': 'S', 'countryCode': 'US'}, {'firstName': 'Anita', 'lastName': 'M', 'countryCode': 'US'}, {'firstName': 'Max', 'lastName': 'T', 'countryCode': 'UA'}]}], 'summary': '7 Likes'}, 'dislike': False, 'ok': False, 'rating': 6.3, 'ratingColor': 'FFC800', 'ratingSignals': 13, 'allowMenuUrlEdit': True, 'beenHere': {'count': 0, 'unconfirmedCount': 0, 'marked': False, 'lastCheckinExpiredAt': 0}, 'specials': {'count': 0, 'items': []}, 'photos': {'count': 11, 'groups': [{'type': 'venue', 'name': 'Venue photos', 'count': 11, 'items': [{'id': '50da1f43e4b0f535a3d6938e', 'createdAt': 1356472131, 'source': {'name': 'Foursquare for iOS', 'url': 'https://foursquare.com/download/#/iphone'}, 'prefix': 'https://fastly.4sqi.net/img/general/', 'suffix': '/2541044_ur2zTzvTIITYfVmLqiftloQwPM8ZAy3Jvn92MNyOOCM.jpg', 'width': 960, 'height': 720, 'visibility': 'public'}]}]}, 'reasons': {'count': 0, 'items': []}, 'hereNow': {'count': 0, 'summary': 'Nobody here', 'groups': []}, 'createdAt': 1273942402, 'tips': {'count': 4, 'groups': [{'type': 'others', 'name': 'All tips', 'count': 4, 'items': [{'id': '539e2bb6498eedc986dea309', 'createdAt': 1402874806, 'text': '5 тысяч лет ожидания почувствуй себя в россии', 'type': 'user', 'canonicalUrl': 'https://foursquare.com/item/539e2bb6498eedc986dea309', 'lang': 'ru', 'likes': {'count': 1, 'groups': [{'type': 'others', 'count': 1, 'items': []}], 'summary': '1 like'}, 'logView': True, 'agreeCount': 1, 'disagreeCount': 0, 'todo': {'count': 0}, 'user': {'firstName': 'Catherine', 'lastName': 'E', 'countryCode': 'RU'}, 'authorInteractionType': 'disliked'}]}]}, 'shortUrl': 'http://4sq.com/adDlNh', 'timeZone': 'America/New_York', 'listed': {'count': 1, 'groups': [{'type': 'others', 'name': 'Lists from other people', 'count': 1, 'items': [{'id': '56b7fd91498e3aacf9b953eb', 'name': 'NYC', 'description': '', 'type': 'others', 'user': {'firstName': 'Rob', 'lastName': 'C', 'countryCode': 'NL'}, 'editable': False, 'public': True, 'collaborative': False, 'url': '/rcoenen/list/nyc', 'canonicalUrl': 'https://foursquare.com/rcoenen/list/nyc', 'createdAt': 1454898577, 'updatedAt': 1501110956, 'photo': {'id': '4f8a32ace4b0089de9a8fed4', 'createdAt': 1334457004, 'prefix': 'https://fastly.4sqi.net/img/general/', 'suffix': '/GAtj7T9S0Tqxd4Kvtgyg3IqS1I71py-mujsGh4wcJP8.jpg', 'width': 537, 'height': 720, 'visibility': 'public'}, 'followers': {'count': 0}, 'listItems': {'count': 3, 'items': [{'id': 'v4beed18235dc0f47b952405b', 'createdAt': 1498064026}]}}]}]}, 'seasonalHours': [], 'pageUpdates': {'count': 0, 'items': []}, 'inbox': {'count': 0, 'items': []}, 'attributes': {'groups': [{'type': 'price', 'name': 'Price', 'summary': '$$', 'count': 1, 'items': [{'displayName': 'Price', 'displayValue': '$$', 'priceTier': 2}]}]}, 'bestPhoto': {'id': '50da1f43e4b0f535a3d6938e', 'createdAt': 1356472131, 'source': {'name': 'Foursquare for iOS', 'url': 'https://foursquare.com/download/#/iphone'}, 'prefix': 'https://fastly.4sqi.net/img/general/', 'suffix': '/2541044_ur2zTzvTIITYfVmLqiftloQwPM8ZAy3Jvn92MNyOOCM.jpg', 'width': 960, 'height': 720, 'visibility': 'public'}, 'colors': {'highlightColor': {'photoId': '50da1f43e4b0f535a3d6938e', 'value': -5199736}, 'highlightTextColor': {'photoId': '50da1f43e4b0f535a3d6938e', 'value': -16777216}, 'algoVersion': 3}}}}\n",
      "                         ID            Name  Likes  Rating  Tips\n",
      "0  4beed18235dc0f47b952405b  Домашняя кухня      7     6.3     4\n"
     ]
    },
    {
     "name": "stdout",
     "output_type": "stream",
     "text": [
      "{'meta': {'code': 200, 'requestId': '60ba01201d9d4e7451cb369d'}, 'response': {'venue': {'id': '5d02cb063731ee002c297fe9', 'name': 'Oda House', 'contact': {'phone': '6469985152', 'formattedPhone': '(646) 998-5152'}, 'location': {'address': '406 E 73rd St', 'lat': 40.768142, 'lng': -73.95497, 'labeledLatLngs': [{'label': 'display', 'lat': 40.768142, 'lng': -73.95497}], 'postalCode': '10021', 'cc': 'US', 'city': 'New York', 'state': 'NY', 'country': 'United States', 'formattedAddress': ['406 E 73rd St', 'New York, NY 10021', 'United States']}, 'canonicalUrl': 'https://foursquare.com/v/oda-house/5d02cb063731ee002c297fe9', 'categories': [{'id': '4bf58dd8d48988d109941735', 'name': 'Eastern European Restaurant', 'pluralName': 'Eastern European Restaurants', 'shortName': 'Eastern European', 'icon': {'prefix': 'https://ss3.4sqi.net/img/categories_v2/food/default_', 'suffix': '.png'}, 'primary': True}], 'verified': False, 'stats': {'tipCount': 7}, 'price': {'tier': 2, 'message': 'Moderate', 'currency': '$'}, 'likes': {'count': 12, 'groups': [{'type': 'others', 'count': 12, 'items': []}], 'summary': '12 Likes'}, 'dislike': False, 'ok': False, 'rating': 7.8, 'ratingColor': 'C5DE35', 'ratingSignals': 21, 'delivery': {'id': '1230810', 'url': 'https://www.seamless.com/menu/oda-house-406-e-73rd-st-new-york/1230810?affiliate=1131&utm_source=foursquare-affiliate-network&utm_medium=affiliate&utm_campaign=1131&utm_content=1230810', 'provider': {'name': 'seamless', 'icon': {'prefix': 'https://fastly.4sqi.net/img/general/cap/', 'sizes': [40, 50], 'name': '/delivery_provider_seamless_20180129.png'}}}, 'allowMenuUrlEdit': True, 'beenHere': {'count': 0, 'unconfirmedCount': 0, 'marked': False, 'lastCheckinExpiredAt': 0}, 'specials': {'count': 0, 'items': []}, 'photos': {'count': 11, 'groups': [{'type': 'venue', 'name': 'Venue photos', 'count': 11, 'items': [{'id': '5f9ddc25d004610eda3bfa22', 'createdAt': 1604181029, 'source': {'name': 'Swarm for iOS', 'url': 'https://www.swarmapp.com'}, 'prefix': 'https://fastly.4sqi.net/img/general/', 'suffix': '/36365440_ItBzRG1LBo7XytmBf5wQM6jcoI6HFFDr74skjOyUibk.jpg', 'width': 1440, 'height': 1920, 'visibility': 'public'}]}]}, 'reasons': {'count': 0, 'items': []}, 'hereNow': {'count': 0, 'summary': 'Nobody here', 'groups': []}, 'createdAt': 1560464134, 'tips': {'count': 7, 'groups': [{'type': 'others', 'name': 'All tips', 'count': 7, 'items': [{'id': '5d3ee2eaab251000078992d9', 'createdAt': 1564402410, 'text': 'Solid khachapuri, adjari and imeruli. Ran out of khinkali. Main dishes are authentic, sauces tarragon and schav heavy. Dessert uneventful', 'type': 'user', 'canonicalUrl': 'https://foursquare.com/item/5d3ee2eaab251000078992d9', 'lang': 'en', 'likes': {'count': 0, 'groups': []}, 'logView': True, 'agreeCount': 2, 'disagreeCount': 0, 'todo': {'count': 0}, 'user': {'firstName': 'Michael', 'lastName': 'F', 'countryCode': 'US'}, 'authorInteractionType': 'liked'}]}]}, 'shortUrl': 'https://4sq.com/2ZwY8lJ', 'timeZone': 'America/New_York', 'listed': {'count': 18, 'groups': [{'type': 'others', 'name': 'Lists from other people', 'count': 18, 'items': [{'id': '5ba187e4029a55003943fcdf', 'name': 'UES', 'description': '', 'type': 'others', 'user': {'firstName': 'Bobby', 'lastName': 'A', 'countryCode': 'US'}, 'editable': False, 'public': True, 'collaborative': False, 'url': '/user/2031815/list/ues', 'canonicalUrl': 'https://foursquare.com/user/2031815/list/ues', 'createdAt': 1537312740, 'updatedAt': 1582425579, 'photo': {'id': '5338c14f498e46570c365ec0', 'createdAt': 1396228431, 'prefix': 'https://fastly.4sqi.net/img/general/', 'suffix': '/763020_uM3ntaKAn2tcCEb9-CxyEZNCQDfGWPtBoeGe_SSID0k.jpg', 'width': 640, 'height': 640, 'visibility': 'public'}, 'followers': {'count': 0}, 'listItems': {'count': 66, 'items': [{'id': 'v5d02cb063731ee002c297fe9', 'createdAt': 1570490404}]}}, {'id': '599b66dee1f2286dc623e35c', 'name': 'New York', 'description': '', 'type': 'others', 'user': {'firstName': 'Sergio M. 🇲🇽🇧🇷🇱🇷', 'lastName': 'R', 'countryCode': 'MX'}, 'editable': False, 'public': True, 'collaborative': False, 'url': '/sergiomorilo/list/new-york', 'canonicalUrl': 'https://foursquare.com/sergiomorilo/list/new-york', 'createdAt': 1503356638, 'updatedAt': 1612028179, 'followers': {'count': 1}, 'listItems': {'count': 21, 'items': [{'id': 'v5d02cb063731ee002c297fe9', 'createdAt': 1612028179}]}}, {'id': '5b26ad193e6741002c5bec7f', 'name': 'Food', 'description': '', 'type': 'others', 'user': {'firstName': 'Tyler', 'lastName': 'S', 'countryCode': 'US'}, 'editable': False, 'public': True, 'collaborative': False, 'url': '/user/495717754/list/food', 'canonicalUrl': 'https://foursquare.com/user/495717754/list/food', 'createdAt': 1529261337, 'updatedAt': 1604863708, 'followers': {'count': 0}, 'listItems': {'count': 49, 'items': [{'id': 'v5d02cb063731ee002c297fe9', 'createdAt': 1604712370}]}}, {'id': '5c3fd1f4da5ede002cdb8391', 'name': 'Must eat', 'description': '', 'type': 'others', 'user': {'firstName': 'Adriana', 'lastName': 'K', 'countryCode': 'US'}, 'editable': False, 'public': True, 'collaborative': False, 'url': '/user/513511867/list/must-eat', 'canonicalUrl': 'https://foursquare.com/user/513511867/list/must-eat', 'createdAt': 1547686388, 'updatedAt': 1570209920, 'photo': {'id': '51852948498e0a3c5608ab2f', 'createdAt': 1367681352, 'prefix': 'https://fastly.4sqi.net/img/general/', 'suffix': '/16674_7TjbNLrsIzgU6ZajVDfOqL2sVIPRHjxG_RWweamXaWg.jpg', 'width': 612, 'height': 612, 'visibility': 'public'}, 'followers': {'count': 0}, 'listItems': {'count': 121, 'items': [{'id': 'v5d02cb063731ee002c297fe9', 'createdAt': 1570208721}]}}]}]}, 'seasonalHours': [], 'pageUpdates': {'count': 0, 'items': []}, 'inbox': {'count': 0, 'items': []}, 'attributes': {'groups': [{'type': 'price', 'name': 'Price', 'summary': '$$', 'count': 1, 'items': [{'displayName': 'Price', 'displayValue': '$$', 'priceTier': 2}]}, {'type': 'serves', 'name': 'Menus', 'summary': 'Dinner, Lunch & more', 'count': 8, 'items': [{'displayName': 'Brunch', 'displayValue': 'Brunch'}, {'displayName': 'Lunch', 'displayValue': 'Lunch'}, {'displayName': 'Dinner', 'displayValue': 'Dinner'}]}, {'type': 'drinks', 'name': 'Drinks', 'summary': 'Wine', 'count': 5, 'items': [{'displayName': 'Wine', 'displayValue': 'Wine'}]}]}, 'bestPhoto': {'id': '5f9ddc25d004610eda3bfa22', 'createdAt': 1604181029, 'source': {'name': 'Swarm for iOS', 'url': 'https://www.swarmapp.com'}, 'prefix': 'https://fastly.4sqi.net/img/general/', 'suffix': '/36365440_ItBzRG1LBo7XytmBf5wQM6jcoI6HFFDr74skjOyUibk.jpg', 'width': 1440, 'height': 1920, 'visibility': 'public'}, 'colors': {'highlightColor': {'photoId': '5f9ddc25d004610eda3bfa22', 'value': -10481656}, 'highlightTextColor': {'photoId': '5f9ddc25d004610eda3bfa22', 'value': -1}, 'algoVersion': 3}}}}\n",
      "                         ID       Name  Likes  Rating  Tips\n",
      "0  5d02cb063731ee002c297fe9  Oda House     12     7.8     7\n",
      "{'meta': {'code': 200, 'requestId': '60ba0120ea5de36500f5866b'}, 'response': {'venue': {'id': '53bacc8f498e55a100c4010e', 'name': 'Old Tbilisi Garden', 'contact': {'phone': '2124706064', 'formattedPhone': '(212) 470-6064', 'twitter': 'oldtbilisiny', 'instagram': 'oldtbilisigarden', 'facebook': '576029942515509', 'facebookUsername': 'oldtbilisigardennyc', 'facebookName': 'Old Tbilisi Garden'}, 'location': {'address': '174 Bleecker St', 'crossStreet': 'Sullivan St', 'lat': 40.728882321277744, 'lng': -74.00074501357406, 'labeledLatLngs': [{'label': 'display', 'lat': 40.728882321277744, 'lng': -74.00074501357406}], 'postalCode': '10012', 'cc': 'US', 'city': 'New York', 'state': 'NY', 'country': 'United States', 'formattedAddress': ['174 Bleecker St (Sullivan St)', 'New York, NY 10012', 'United States']}, 'canonicalUrl': 'https://foursquare.com/v/old-tbilisi-garden/53bacc8f498e55a100c4010e', 'categories': [{'id': '4bf58dd8d48988d109941735', 'name': 'Eastern European Restaurant', 'pluralName': 'Eastern European Restaurants', 'shortName': 'Eastern European', 'icon': {'prefix': 'https://ss3.4sqi.net/img/categories_v2/food/default_', 'suffix': '.png'}, 'primary': True}, {'id': '5283c7b4e4b094cb91ec88d7', 'name': 'Kebab Restaurant', 'pluralName': 'Kebab Restaurants', 'shortName': 'Kebab', 'icon': {'prefix': 'https://ss3.4sqi.net/img/categories_v2/food/middleeastern_', 'suffix': '.png'}}], 'verified': True, 'stats': {'tipCount': 39}, 'url': 'https://www.oldtbilisigarden.com', 'price': {'tier': 2, 'message': 'Moderate', 'currency': '$'}, 'likes': {'count': 123, 'groups': [{'type': 'others', 'count': 123, 'items': []}], 'summary': '123 Likes'}, 'dislike': False, 'ok': False, 'rating': 8.1, 'ratingColor': '73CF42', 'ratingSignals': 184, 'delivery': {'id': '299626', 'url': 'https://www.seamless.com/menu/old-tbilisi-garden-174-bleecker-st-new-york/299626?affiliate=1131&utm_source=foursquare-affiliate-network&utm_medium=affiliate&utm_campaign=1131&utm_content=299626', 'provider': {'name': 'seamless', 'icon': {'prefix': 'https://fastly.4sqi.net/img/general/cap/', 'sizes': [40, 50], 'name': '/delivery_provider_seamless_20180129.png'}}}, 'menu': {'type': 'Menu', 'label': 'Menu', 'anchor': 'View Menu', 'url': 'https://www.oldtbilisigarden.com/menu/', 'mobileUrl': 'https://www.oldtbilisigarden.com/menu/', 'externalUrl': 'https://www.oldtbilisigarden.com/menu/'}, 'allowMenuUrlEdit': True, 'beenHere': {'count': 0, 'unconfirmedCount': 0, 'marked': False, 'lastCheckinExpiredAt': 0}, 'specials': {'count': 0, 'items': []}, 'photos': {'count': 92, 'groups': [{'type': 'venue', 'name': 'Venue photos', 'count': 92, 'items': [{'id': '5a7627e25c1ba22ced7c3670', 'createdAt': 1517692898, 'source': {'name': 'Foursquare Web', 'url': 'https://foursquare.com'}, 'prefix': 'https://fastly.4sqi.net/img/general/', 'suffix': '/476043793_g_RYvR65RTNT9Me_OgFcMSAssSAHnsGSZ-fs1q1e7f4.jpg', 'width': 1000, 'height': 666, 'visibility': 'public'}]}]}, 'venuePage': {'id': '476043793'}, 'reasons': {'count': 1, 'items': [{'summary': 'Lots of people like this place', 'type': 'general', 'reasonName': 'rawLikesReason'}]}, 'description': 'Old Tbilisi Garden is an Authentic Georgian Restaurant located in Greenwich Village, NYC', 'storeId': '', 'page': {'user': {'firstName': 'Old Tbilisi Garden', 'countryCode': 'US', 'type': 'venuePage', 'venue': {'id': '53bacc8f498e55a100c4010e'}, 'tips': {'count': 1}, 'lists': {'groups': [{'type': 'created', 'count': 2, 'items': []}]}, 'bio': ''}}, 'hereNow': {'count': 0, 'summary': 'Nobody here', 'groups': []}, 'createdAt': 1404750991, 'tips': {'count': 39, 'groups': [{'type': 'others', 'name': 'All tips', 'count': 39, 'items': [{'id': '5476571c498e6d58290b9d90', 'createdAt': 1417041692, 'text': \"Apart from the excellent khachapuri ($12 to $16) blistered and bubbling, you'll want to start with an order of lamb khinkali ($8), juicy steamed dumplings the size of baseballs.\", 'type': 'user', 'url': 'http://www.tastingtable.com/entry_detail/18157/nyc', 'canonicalUrl': 'https://foursquare.com/item/5476571c498e6d58290b9d90', 'photo': {'id': '5476571d498edc32eac65267', 'createdAt': 1417041693, 'source': {'name': 'Foursquare Web', 'url': 'https://foursquare.com'}, 'prefix': 'https://fastly.4sqi.net/img/general/', 'suffix': '/17320443__knstW3-eOw30IWhbY0u2dKzLNV29j2Aawny0_X-Ip4.jpg', 'width': 550, 'height': 607, 'visibility': 'public'}, 'photourl': 'https://fastly.4sqi.net/img/general/original/17320443__knstW3-eOw30IWhbY0u2dKzLNV29j2Aawny0_X-Ip4.jpg', 'lang': 'en', 'likes': {'count': 6, 'groups': [{'type': 'others', 'count': 6, 'items': [{'firstName': 'Reb', 'lastName': 'T', 'countryCode': 'US'}, {'firstName': 'Ramon', 'lastName': 'V', 'countryCode': 'US'}]}], 'summary': '6 likes'}, 'logView': True, 'agreeCount': 9, 'disagreeCount': 0, 'todo': {'count': 4}, 'user': {'firstName': 'Tasting Table', 'countryCode': 'US', 'type': 'page'}}]}]}, 'shortUrl': 'http://4sq.com/1zocGnG', 'timeZone': 'America/New_York', 'listed': {'count': 211, 'groups': [{'type': 'others', 'name': 'Lists from other people', 'count': 211, 'items': [{'id': '50eeeecfe4b03c500b3ce500', 'name': 'Georgian restaurants around the world!', 'description': 'Assorted Georgian restaurants.', 'type': 'others', 'user': {'firstName': 'Georgia', 'lastName': 'P', 'countryCode': 'GE'}, 'editable': False, 'public': True, 'collaborative': True, 'url': '/georgiapictures/list/georgian-restaurants-around-the-world', 'canonicalUrl': 'https://foursquare.com/georgiapictures/list/georgian-restaurants-around-the-world', 'createdAt': 1357835983, 'updatedAt': 1513276659, 'photo': {'id': '4fa5d5f2e4b0baf7cda8d8a8', 'createdAt': 1336268274, 'prefix': 'https://fastly.4sqi.net/img/general/', 'suffix': '/6IFwTliZ9wnS-HuvqMEpNoYU9sudYbT-ERGBfo0c-ek.jpg', 'width': 537, 'height': 720, 'visibility': 'public'}, 'followers': {'count': 8}, 'listItems': {'count': 25, 'items': [{'id': 'v53bacc8f498e55a100c4010e', 'createdAt': 1405007391}]}}, {'id': '512715b4e4b0c2161fbdb9cb', 'name': 'NYC recommendations', 'description': \"places I've been and liked\", 'type': 'others', 'user': {'firstName': 'Chris', 'lastName': 'P', 'countryCode': 'US'}, 'editable': False, 'public': True, 'collaborative': True, 'url': '/user/41249/list/nyc-recommendations', 'canonicalUrl': 'https://foursquare.com/user/41249/list/nyc-recommendations', 'createdAt': 1361515956, 'updatedAt': 1459974846, 'followers': {'count': 10}, 'listItems': {'count': 157, 'items': [{'id': 'v53bacc8f498e55a100c4010e', 'createdAt': 1443809296}]}}, {'id': '5346e910498e7abeede714c8', 'name': 'manhattan restaurants 2', 'description': 'list of restaurants i want to try in manhattan, continued', 'type': 'others', 'user': {'firstName': 'Dan', 'lastName': 'K', 'countryCode': 'US'}, 'editable': False, 'public': True, 'collaborative': False, 'url': '/user/23355/list/manhattan-restaurants-2', 'canonicalUrl': 'https://foursquare.com/user/23355/list/manhattan-restaurants-2', 'createdAt': 1397156112, 'updatedAt': 1583555891, 'photo': {'id': '532a451e11d248586dbb3709', 'createdAt': 1395279134, 'prefix': 'https://fastly.4sqi.net/img/general/', 'suffix': '/81739454_aEU_5yAHqzxagHWZuS5pNJpDWTnWWHQbotFyof_Accc.jpg', 'width': 5616, 'height': 3744, 'visibility': 'public'}, 'followers': {'count': 6}, 'listItems': {'count': 119, 'items': [{'id': 'v53bacc8f498e55a100c4010e', 'createdAt': 1474403104}]}}, {'id': '56933bc4498ef97e9916e996', 'name': '50 Favorite Restaurants Of 2015', 'description': 'The following list contains the 50 best restaurants that I ate at in New York City in 2015. The list contains only places at which I dined for the first time in 2015, and places are listed in order.', 'type': 'others', 'user': {'firstName': 'Jason', 'lastName': 'F', 'countryCode': 'US'}, 'editable': False, 'public': True, 'collaborative': False, 'url': '/thefeirmanator/list/50-favorite-restaurants-of-2015', 'canonicalUrl': 'https://foursquare.com/thefeirmanator/list/50-favorite-restaurants-of-2015', 'createdAt': 1452489668, 'updatedAt': 1452573669, 'followers': {'count': 8}, 'listItems': {'count': 50, 'items': [{'id': 'v53bacc8f498e55a100c4010e', 'createdAt': 1452489852}]}}]}]}, 'hours': {'status': 'Closed until Noon', 'richStatus': {'entities': [], 'text': 'Closed until Noon'}, 'isOpen': False, 'isLocalHoliday': False, 'dayData': [], 'timeframes': [{'days': 'Mon–Thu', 'open': [{'renderedTime': 'Noon–10:00 PM'}], 'segments': []}, {'days': 'Fri', 'includesToday': True, 'open': [{'renderedTime': 'Noon–11:30 PM'}], 'segments': []}, {'days': 'Sat', 'open': [{'renderedTime': '11:00 AM–11:30 PM'}], 'segments': []}, {'days': 'Sun', 'open': [{'renderedTime': '11:00 AM–10:30 PM'}], 'segments': []}]}, 'popular': {'isOpen': False, 'isLocalHoliday': False, 'timeframes': [{'days': 'Today', 'includesToday': True, 'open': [{'renderedTime': '6:00 PM–11:00 PM'}], 'segments': []}, {'days': 'Sat', 'open': [{'renderedTime': 'Noon–11:00 PM'}], 'segments': []}, {'days': 'Sun', 'open': [{'renderedTime': 'Noon–10:00 PM'}], 'segments': []}, {'days': 'Mon–Thu', 'open': [{'renderedTime': '6:00 PM–10:00 PM'}], 'segments': []}]}, 'seasonalHours': [], 'defaultHours': {'status': 'Closed until Noon', 'richStatus': {'entities': [], 'text': 'Closed until Noon'}, 'isOpen': False, 'isLocalHoliday': False, 'dayData': [], 'timeframes': [{'days': 'Mon–Thu', 'open': [{'renderedTime': 'Noon–10:00 PM'}], 'segments': []}, {'days': 'Fri', 'includesToday': True, 'open': [{'renderedTime': 'Noon–11:30 PM'}], 'segments': []}, {'days': 'Sat', 'open': [{'renderedTime': '11:00 AM–11:30 PM'}], 'segments': []}, {'days': 'Sun', 'open': [{'renderedTime': '11:00 AM–10:30 PM'}], 'segments': []}]}, 'pageUpdates': {'count': 0, 'items': []}, 'inbox': {'count': 0, 'items': []}, 'attributes': {'groups': [{'type': 'price', 'name': 'Price', 'summary': '$$', 'count': 1, 'items': [{'displayName': 'Price', 'displayValue': '$$', 'priceTier': 2}]}, {'type': 'reservations', 'name': 'Reservations', 'summary': 'Reservations', 'count': 3, 'items': [{'displayName': 'Reservations', 'displayValue': 'Yes'}]}, {'type': 'payments', 'name': 'Credit Cards', 'summary': 'Credit Cards', 'count': 7, 'items': [{'displayName': 'Credit Cards', 'displayValue': 'Yes'}]}, {'type': 'outdoorSeating', 'name': 'Outdoor Seating', 'summary': 'Outdoor Seating', 'count': 1, 'items': [{'displayName': 'Outdoor Seating', 'displayValue': 'Yes'}]}, {'type': 'music', 'name': 'Music', 'summary': 'Live Music', 'count': 3, 'items': [{'displayName': 'Live Music', 'displayValue': 'Live Music'}]}, {'type': 'serves', 'name': 'Menus', 'summary': 'Happy Hour, Lunch & more', 'count': 8, 'items': [{'displayName': 'Lunch', 'displayValue': 'Lunch'}, {'displayName': 'Dinner', 'displayValue': 'Dinner'}, {'displayName': 'Dessert', 'displayValue': 'Dessert'}, {'displayName': 'Happy Hour', 'displayValue': 'Happy Hour'}]}, {'type': 'drinks', 'name': 'Drinks', 'summary': 'Beer, Wine, Full Bar & Cocktails', 'count': 5, 'items': [{'displayName': 'Beer', 'displayValue': 'Beer'}, {'displayName': 'Wine', 'displayValue': 'Wine'}, {'displayName': 'Full Bar', 'displayValue': 'Full Bar'}, {'displayName': 'Cocktails', 'displayValue': 'Cocktails'}]}, {'type': 'restroom', 'name': 'Restroom', 'summary': 'Restroom', 'count': 1, 'items': [{'displayName': 'Restroom', 'displayValue': 'Yes'}]}, {'type': 'wheelchairAccessible', 'name': 'Wheelchair Accessible', 'summary': 'Wheelchair Accessible', 'count': 1, 'items': [{'displayName': 'Wheelchair Accessible', 'displayValue': 'Yes'}]}, {'type': 'tvs', 'name': 'TVs', 'summary': 'TVs', 'count': 1, 'items': [{'displayName': 'TVs', 'displayValue': 'Yes'}]}]}, 'bestPhoto': {'id': '5a7627e25c1ba22ced7c3670', 'createdAt': 1517692898, 'source': {'name': 'Foursquare Web', 'url': 'https://foursquare.com'}, 'prefix': 'https://fastly.4sqi.net/img/general/', 'suffix': '/476043793_g_RYvR65RTNT9Me_OgFcMSAssSAHnsGSZ-fs1q1e7f4.jpg', 'width': 1000, 'height': 666, 'visibility': 'public'}, 'colors': {'highlightColor': {'photoId': '5a7627e25c1ba22ced7c3670', 'value': -1513248}, 'highlightTextColor': {'photoId': '5a7627e25c1ba22ced7c3670', 'value': -16777216}, 'algoVersion': 3}}}}\n",
      "                         ID                Name  Likes  Rating  Tips\n",
      "0  53bacc8f498e55a100c4010e  Old Tbilisi Garden    123     8.1    39\n"
     ]
    },
    {
     "name": "stdout",
     "output_type": "stream",
     "text": [
      "{'meta': {'code': 200, 'requestId': '60ba012070a87928eb4ba97c'}, 'response': {'venue': {'id': '5777fc88498ec5cc1755d079', 'name': \"Uma's\", 'contact': {}, 'location': {'lat': 40.582863, 'lng': -73.817733, 'labeledLatLngs': [{'label': 'display', 'lat': 40.582863, 'lng': -73.817733}], 'cc': 'US', 'city': 'Queens', 'state': 'NY', 'country': 'United States', 'formattedAddress': ['Queens, NY', 'United States']}, 'canonicalUrl': 'https://foursquare.com/v/umas/5777fc88498ec5cc1755d079', 'categories': [{'id': '4bf58dd8d48988d109941735', 'name': 'Eastern European Restaurant', 'pluralName': 'Eastern European Restaurants', 'shortName': 'Eastern European', 'icon': {'prefix': 'https://ss3.4sqi.net/img/categories_v2/food/default_', 'suffix': '.png'}, 'primary': True}], 'verified': False, 'stats': {'tipCount': 2}, 'price': {'tier': 2, 'message': 'Moderate', 'currency': '$'}, 'likes': {'count': 5, 'groups': [{'type': 'others', 'count': 5, 'items': [{'firstName': 'Robert', 'lastName': 'G', 'address': '', 'city': '', 'state': '', 'countryCode': 'US'}]}], 'summary': '5 Likes'}, 'dislike': False, 'ok': False, 'rating': 6.3, 'ratingColor': 'FFC800', 'ratingSignals': 9, 'allowMenuUrlEdit': True, 'beenHere': {'count': 0, 'unconfirmedCount': 0, 'marked': False, 'lastCheckinExpiredAt': 0}, 'specials': {'count': 0, 'items': []}, 'photos': {'count': 2, 'groups': [{'type': 'venue', 'name': 'Venue photos', 'count': 2, 'items': [{'id': '5b41054b89b06a003942d4b7', 'createdAt': 1530987851, 'source': {'name': 'Swarm for iOS', 'url': 'https://www.swarmapp.com'}, 'prefix': 'https://fastly.4sqi.net/img/general/', 'suffix': '/44845924_XYgjkfBK1V2XHCzUWRPGyhzrQM-_qLc79dkZuPlZiI8.jpg', 'width': 1440, 'height': 1920, 'visibility': 'public'}]}]}, 'reasons': {'count': 0, 'items': []}, 'hereNow': {'count': 0, 'summary': 'Nobody here', 'groups': []}, 'createdAt': 1467481224, 'tips': {'count': 2, 'groups': [{'type': 'others', 'name': 'All tips', 'count': 2, 'items': [{'id': '592b1590b6eedb1f03c233cb', 'createdAt': 1495995792, 'text': 'Triple pork sandwich with fries is the way to go', 'type': 'user', 'canonicalUrl': 'https://foursquare.com/item/592b1590b6eedb1f03c233cb', 'lang': 'en', 'likes': {'count': 0, 'groups': []}, 'logView': True, 'agreeCount': 0, 'disagreeCount': 0, 'todo': {'count': 0}, 'user': {'firstName': 'Rory', 'lastName': 'P', 'countryCode': 'US'}, 'authorInteractionType': 'liked'}]}]}, 'shortUrl': 'http://4sq.com/29aBWUu', 'timeZone': 'America/New_York', 'listed': {'count': 0, 'groups': [{'type': 'others', 'name': 'Lists from other people', 'count': 0, 'items': []}]}, 'seasonalHours': [], 'pageUpdates': {'count': 0, 'items': []}, 'inbox': {'count': 0, 'items': []}, 'attributes': {'groups': [{'type': 'price', 'name': 'Price', 'summary': '$$', 'count': 1, 'items': [{'displayName': 'Price', 'displayValue': '$$', 'priceTier': 2}]}]}, 'bestPhoto': {'id': '5b41054b89b06a003942d4b7', 'createdAt': 1530987851, 'source': {'name': 'Swarm for iOS', 'url': 'https://www.swarmapp.com'}, 'prefix': 'https://fastly.4sqi.net/img/general/', 'suffix': '/44845924_XYgjkfBK1V2XHCzUWRPGyhzrQM-_qLc79dkZuPlZiI8.jpg', 'width': 1440, 'height': 1920, 'visibility': 'public'}, 'colors': {'highlightColor': {'photoId': '5b41054b89b06a003942d4b7', 'value': -13092808}, 'highlightTextColor': {'photoId': '5b41054b89b06a003942d4b7', 'value': -1}, 'algoVersion': 3}}}}\n",
      "                         ID   Name  Likes  Rating  Tips\n",
      "0  5777fc88498ec5cc1755d079  Uma's      5     6.3     2\n",
      "{'meta': {'code': 200, 'requestId': '60ba0121af251f0bbc0c33d5'}, 'response': {'venue': {'id': '57b2645dcd1036625d521e0b', 'name': 'Korzo Klub', 'contact': {'phone': '7185414692', 'formattedPhone': '(718) 541-4692'}, 'location': {'address': '764 Bay St', 'crossStreet': 'at Willow Ave', 'lat': 40.61881854110182, 'lng': -74.06942993402481, 'labeledLatLngs': [{'label': 'display', 'lat': 40.61881854110182, 'lng': -74.06942993402481}], 'postalCode': '10305', 'cc': 'US', 'city': 'Staten Island', 'state': 'NY', 'country': 'United States', 'formattedAddress': ['764 Bay St (at Willow Ave)', 'Staten Island, NY 10305', 'United States']}, 'canonicalUrl': 'https://foursquare.com/v/korzo-klub/57b2645dcd1036625d521e0b', 'categories': [{'id': '4bf58dd8d48988d109941735', 'name': 'Eastern European Restaurant', 'pluralName': 'Eastern European Restaurants', 'shortName': 'Eastern European', 'icon': {'prefix': 'https://ss3.4sqi.net/img/categories_v2/food/default_', 'suffix': '.png'}, 'primary': True}], 'verified': False, 'stats': {'tipCount': 2}, 'price': {'tier': 2, 'message': 'Moderate', 'currency': '$'}, 'likes': {'count': 9, 'groups': [{'type': 'others', 'count': 9, 'items': [{'firstName': 'Jakub', 'lastName': 'P', 'countryCode': 'US'}]}], 'summary': '9 Likes'}, 'dislike': False, 'ok': False, 'rating': 7.4, 'ratingColor': 'C5DE35', 'ratingSignals': 12, 'allowMenuUrlEdit': True, 'beenHere': {'count': 0, 'unconfirmedCount': 0, 'marked': False, 'lastCheckinExpiredAt': 0}, 'specials': {'count': 0, 'items': []}, 'photos': {'count': 0, 'groups': []}, 'reasons': {'count': 0, 'items': []}, 'hereNow': {'count': 0, 'summary': 'Nobody here', 'groups': []}, 'createdAt': 1471308893, 'tips': {'count': 2, 'groups': [{'type': 'others', 'name': 'All tips', 'count': 2, 'items': [{'id': '590667331cf2e16a043f741b', 'createdAt': 1493591859, 'text': 'Nice casual atmosphere and good food', 'type': 'user', 'canonicalUrl': 'https://foursquare.com/item/590667331cf2e16a043f741b', 'lang': 'en', 'likes': {'count': 0, 'groups': []}, 'logView': True, 'agreeCount': 0, 'disagreeCount': 0, 'todo': {'count': 0}, 'user': {'firstName': 'M', 'lastName': 'R', 'countryCode': 'US'}, 'authorInteractionType': 'liked'}]}]}, 'shortUrl': 'http://4sq.com/2b7EWES', 'timeZone': 'America/New_York', 'listed': {'count': 2, 'groups': [{'type': 'others', 'name': 'Lists from other people', 'count': 2, 'items': [{'id': '56cddfd438fa82543a5cf899', 'name': 'Staten Island', 'description': '', 'type': 'others', 'user': {'firstName': '', 'countryCode': 'US'}, 'editable': False, 'public': True, 'collaborative': False, 'url': '/user/160314732/list/staten-island', 'canonicalUrl': 'https://foursquare.com/user/160314732/list/staten-island', 'createdAt': 1456332756, 'updatedAt': 1494280121, 'followers': {'count': 0}, 'listItems': {'count': 45, 'items': [{'id': 'v57b2645dcd1036625d521e0b', 'createdAt': 1481675885}]}}, {'id': '5010072de4b00e7a7bc1ed6c', 'name': 'Restaurants to go', 'description': '', 'type': 'others', 'user': {'firstName': 'Susumu', 'countryCode': 'JP'}, 'editable': False, 'public': True, 'collaborative': False, 'url': '/enchantedchild/list/restaurants-to-go', 'canonicalUrl': 'https://foursquare.com/enchantedchild/list/restaurants-to-go', 'createdAt': 1343227693, 'updatedAt': 1555740355, 'photo': {'id': '501bfc5e83025a18edb59a27', 'createdAt': 1344011358, 'prefix': 'https://fastly.4sqi.net/img/general/', 'suffix': '/5zL5mPyIe8eWb_eHcsH8_zfMan3Kds4jyT71gC-VTJc.jpg', 'width': 533, 'height': 400, 'visibility': 'public'}, 'followers': {'count': 0}, 'listItems': {'count': 234, 'items': [{'id': 'v57b2645dcd1036625d521e0b', 'createdAt': 1525596424}]}}]}]}, 'hours': {'status': 'Closed until 11:30 AM', 'richStatus': {'entities': [], 'text': 'Closed until 11:30 AM'}, 'isOpen': False, 'isLocalHoliday': False, 'dayData': [], 'timeframes': [{'days': 'Wed–Thu', 'open': [{'renderedTime': '4:00 PM–10:00 PM'}], 'segments': []}, {'days': 'Fri–Sat', 'includesToday': True, 'open': [{'renderedTime': '11:30 AM–11:00 PM'}], 'segments': []}]}, 'seasonalHours': [], 'defaultHours': {'status': 'Closed until 11:30 AM', 'richStatus': {'entities': [], 'text': 'Closed until 11:30 AM'}, 'isOpen': False, 'isLocalHoliday': False, 'dayData': [], 'timeframes': [{'days': 'Wed–Thu', 'open': [{'renderedTime': '4:00 PM–10:00 PM'}], 'segments': []}, {'days': 'Fri–Sat', 'includesToday': True, 'open': [{'renderedTime': '11:30 AM–11:00 PM'}], 'segments': []}]}, 'pageUpdates': {'count': 0, 'items': []}, 'inbox': {'count': 0, 'items': []}, 'attributes': {'groups': [{'type': 'price', 'name': 'Price', 'summary': '$$', 'count': 1, 'items': [{'displayName': 'Price', 'displayValue': '$$', 'priceTier': 2}]}, {'type': 'outdoorSeating', 'name': 'Outdoor Seating', 'summary': 'Outdoor Seating', 'count': 1, 'items': [{'displayName': 'Outdoor Seating', 'displayValue': 'Yes'}]}, {'type': 'drinks', 'name': 'Drinks', 'summary': 'Full Bar & Cocktails', 'count': 5, 'items': [{'displayName': 'Full Bar', 'displayValue': 'Full Bar'}, {'displayName': 'Cocktails', 'displayValue': 'Cocktails'}]}]}}}}\n",
      "                         ID        Name  Likes  Rating  Tips\n",
      "0  57b2645dcd1036625d521e0b  Korzo Klub      9     7.4     2\n"
     ]
    },
    {
     "name": "stdout",
     "output_type": "stream",
     "text": [
      "{'meta': {'code': 200, 'requestId': '60ba0121dcdbda54cd7d27fe'}, 'response': {'venue': {'id': '4fa6a903e4b0bbcd4ad315fd', 'name': 'Sorry babushka', 'contact': {}, 'location': {'address': '2230 Hylan Blvd', 'lat': 40.575965000000004, 'lng': -74.103531, 'labeledLatLngs': [{'label': 'display', 'lat': 40.575965000000004, 'lng': -74.103531}, {'label': 'entrance', 'lat': 40.576018, 'lng': -74.10363}], 'postalCode': '10305', 'cc': 'US', 'city': 'Staten Island', 'state': 'NY', 'country': 'United States', 'formattedAddress': ['2230 Hylan Blvd', 'Staten Island, NY 10305', 'United States']}, 'canonicalUrl': 'https://foursquare.com/v/sorry-babushka/4fa6a903e4b0bbcd4ad315fd', 'categories': [{'id': '4bf58dd8d48988d109941735', 'name': 'Eastern European Restaurant', 'pluralName': 'Eastern European Restaurants', 'shortName': 'Eastern European', 'icon': {'prefix': 'https://ss3.4sqi.net/img/categories_v2/food/default_', 'suffix': '.png'}, 'primary': True}], 'verified': False, 'stats': {'tipCount': 4}, 'price': {'tier': 2, 'message': 'Moderate', 'currency': '$'}, 'likes': {'count': 4, 'groups': [{'type': 'others', 'count': 4, 'items': [{'firstName': 'Felix', 'lastName': 'T', 'countryCode': 'US'}]}], 'summary': '4 Likes'}, 'dislike': False, 'ok': False, 'rating': 6.2, 'ratingColor': 'FFC800', 'ratingSignals': 10, 'allowMenuUrlEdit': True, 'beenHere': {'count': 0, 'unconfirmedCount': 0, 'marked': False, 'lastCheckinExpiredAt': 0}, 'specials': {'count': 0, 'items': []}, 'photos': {'count': 5, 'groups': [{'type': 'venue', 'name': 'Venue photos', 'count': 5, 'items': [{'id': '556a3cd9498e1fd9dd2a73d7', 'createdAt': 1433025753, 'source': {'name': 'Swarm for Android', 'url': 'https://www.swarmapp.com'}, 'prefix': 'https://fastly.4sqi.net/img/general/', 'suffix': '/58054781_tT-bp5kgTEkECXp3vG1VJQavU3T0K5VjMNMIC7Mt7AE.jpg', 'width': 960, 'height': 540, 'visibility': 'public'}]}]}, 'reasons': {'count': 0, 'items': []}, 'hereNow': {'count': 0, 'summary': 'Nobody here', 'groups': []}, 'createdAt': 1336322307, 'tips': {'count': 4, 'groups': [{'type': 'others', 'name': 'All tips', 'count': 4, 'items': [{'id': '5247d65411d258a014858f15', 'createdAt': 1380439636, 'text': 'Everything here is plain deliciousness. 5 star', 'type': 'user', 'canonicalUrl': 'https://foursquare.com/item/5247d65411d258a014858f15', 'lang': 'en', 'likes': {'count': 0, 'groups': []}, 'logView': True, 'agreeCount': 0, 'disagreeCount': 0, 'todo': {'count': 0}, 'user': {'firstName': 'Arina', 'lastName': 'T', 'countryCode': 'RU'}, 'authorInteractionType': 'liked'}]}]}, 'shortUrl': 'http://4sq.com/J1WnnP', 'timeZone': 'America/New_York', 'listed': {'count': 1, 'groups': [{'type': 'others', 'name': 'Lists from other people', 'count': 1, 'items': [{'id': '5192e10a498e04095463e1da', 'name': 'New York Other', 'description': '', 'type': 'others', 'user': {'firstName': 'Ksenya', 'lastName': 'S', 'countryCode': 'US'}, 'editable': False, 'public': True, 'collaborative': False, 'url': '/user/515578/list/new-york-other', 'canonicalUrl': 'https://foursquare.com/user/515578/list/new-york-other', 'createdAt': 1368580362, 'updatedAt': 1600488372, 'photo': {'id': '5162c8737ab49c026b31b375', 'createdAt': 1365428339, 'prefix': 'https://fastly.4sqi.net/img/general/', 'suffix': '/13764780_q09pown4evOyYXk-v35B_VeXNfA9Y-q3Nw0Ea6LCSCw.jpg', 'width': 500, 'height': 500, 'visibility': 'public'}, 'followers': {'count': 0}, 'listItems': {'count': 46, 'items': [{'id': 'v4fa6a903e4b0bbcd4ad315fd', 'createdAt': 1382374769}]}}]}]}, 'hours': {'status': 'Closed until 11:00 AM', 'richStatus': {'entities': [], 'text': 'Closed until 11:00 AM'}, 'isOpen': False, 'isLocalHoliday': False, 'dayData': [], 'timeframes': [{'days': 'Mon–Thu', 'open': [{'renderedTime': '11:00 AM–10:00 PM'}], 'segments': []}, {'days': 'Fri–Sun', 'includesToday': True, 'open': [{'renderedTime': '11:00 AM–11:00 PM'}], 'segments': []}]}, 'seasonalHours': [], 'defaultHours': {'status': 'Closed until 11:00 AM', 'richStatus': {'entities': [], 'text': 'Closed until 11:00 AM'}, 'isOpen': False, 'isLocalHoliday': False, 'dayData': [], 'timeframes': [{'days': 'Mon–Thu', 'open': [{'renderedTime': '11:00 AM–10:00 PM'}], 'segments': []}, {'days': 'Fri–Sun', 'includesToday': True, 'open': [{'renderedTime': '11:00 AM–11:00 PM'}], 'segments': []}]}, 'pageUpdates': {'count': 0, 'items': []}, 'inbox': {'count': 0, 'items': []}, 'attributes': {'groups': [{'type': 'price', 'name': 'Price', 'summary': '$$', 'count': 1, 'items': [{'displayName': 'Price', 'displayValue': '$$', 'priceTier': 2}]}, {'type': 'reservations', 'name': 'Reservations', 'count': 3, 'items': [{'displayName': 'Reservations', 'displayValue': 'No'}]}]}, 'bestPhoto': {'id': '556a3cd9498e1fd9dd2a73d7', 'createdAt': 1433025753, 'source': {'name': 'Swarm for Android', 'url': 'https://www.swarmapp.com'}, 'prefix': 'https://fastly.4sqi.net/img/general/', 'suffix': '/58054781_tT-bp5kgTEkECXp3vG1VJQavU3T0K5VjMNMIC7Mt7AE.jpg', 'width': 960, 'height': 540, 'visibility': 'public'}}}}\n",
      "                         ID            Name  Likes  Rating  Tips\n",
      "0  4fa6a903e4b0bbcd4ad315fd  Sorry babushka      4     6.2     4\n",
      "{'meta': {'code': 200, 'requestId': '60ba0122795c9905305c16c1'}, 'response': {'venue': {'id': '57b2645dcd1036625d521e0b', 'name': 'Korzo Klub', 'contact': {'phone': '7185414692', 'formattedPhone': '(718) 541-4692'}, 'location': {'address': '764 Bay St', 'crossStreet': 'at Willow Ave', 'lat': 40.61881854110182, 'lng': -74.06942993402481, 'labeledLatLngs': [{'label': 'display', 'lat': 40.61881854110182, 'lng': -74.06942993402481}], 'postalCode': '10305', 'cc': 'US', 'city': 'Staten Island', 'state': 'NY', 'country': 'United States', 'formattedAddress': ['764 Bay St (at Willow Ave)', 'Staten Island, NY 10305', 'United States']}, 'canonicalUrl': 'https://foursquare.com/v/korzo-klub/57b2645dcd1036625d521e0b', 'categories': [{'id': '4bf58dd8d48988d109941735', 'name': 'Eastern European Restaurant', 'pluralName': 'Eastern European Restaurants', 'shortName': 'Eastern European', 'icon': {'prefix': 'https://ss3.4sqi.net/img/categories_v2/food/default_', 'suffix': '.png'}, 'primary': True}], 'verified': False, 'stats': {'tipCount': 2}, 'price': {'tier': 2, 'message': 'Moderate', 'currency': '$'}, 'likes': {'count': 9, 'groups': [{'type': 'others', 'count': 9, 'items': [{'firstName': 'Jakub', 'lastName': 'P', 'countryCode': 'US'}]}], 'summary': '9 Likes'}, 'dislike': False, 'ok': False, 'rating': 7.4, 'ratingColor': 'C5DE35', 'ratingSignals': 12, 'allowMenuUrlEdit': True, 'beenHere': {'count': 0, 'unconfirmedCount': 0, 'marked': False, 'lastCheckinExpiredAt': 0}, 'specials': {'count': 0, 'items': []}, 'photos': {'count': 0, 'groups': []}, 'reasons': {'count': 0, 'items': []}, 'hereNow': {'count': 0, 'summary': 'Nobody here', 'groups': []}, 'createdAt': 1471308893, 'tips': {'count': 2, 'groups': [{'type': 'others', 'name': 'All tips', 'count': 2, 'items': [{'id': '590667331cf2e16a043f741b', 'createdAt': 1493591859, 'text': 'Nice casual atmosphere and good food', 'type': 'user', 'canonicalUrl': 'https://foursquare.com/item/590667331cf2e16a043f741b', 'lang': 'en', 'likes': {'count': 0, 'groups': []}, 'logView': True, 'agreeCount': 0, 'disagreeCount': 0, 'todo': {'count': 0}, 'user': {'firstName': 'M', 'lastName': 'R', 'countryCode': 'US'}, 'authorInteractionType': 'liked'}]}]}, 'shortUrl': 'http://4sq.com/2b7EWES', 'timeZone': 'America/New_York', 'listed': {'count': 2, 'groups': [{'type': 'others', 'name': 'Lists from other people', 'count': 2, 'items': [{'id': '56cddfd438fa82543a5cf899', 'name': 'Staten Island', 'description': '', 'type': 'others', 'user': {'firstName': '', 'countryCode': 'US'}, 'editable': False, 'public': True, 'collaborative': False, 'url': '/user/160314732/list/staten-island', 'canonicalUrl': 'https://foursquare.com/user/160314732/list/staten-island', 'createdAt': 1456332756, 'updatedAt': 1494280121, 'followers': {'count': 0}, 'listItems': {'count': 45, 'items': [{'id': 'v57b2645dcd1036625d521e0b', 'createdAt': 1481675885}]}}, {'id': '5010072de4b00e7a7bc1ed6c', 'name': 'Restaurants to go', 'description': '', 'type': 'others', 'user': {'firstName': 'Susumu', 'countryCode': 'JP'}, 'editable': False, 'public': True, 'collaborative': False, 'url': '/enchantedchild/list/restaurants-to-go', 'canonicalUrl': 'https://foursquare.com/enchantedchild/list/restaurants-to-go', 'createdAt': 1343227693, 'updatedAt': 1555740355, 'photo': {'id': '501bfc5e83025a18edb59a27', 'createdAt': 1344011358, 'prefix': 'https://fastly.4sqi.net/img/general/', 'suffix': '/5zL5mPyIe8eWb_eHcsH8_zfMan3Kds4jyT71gC-VTJc.jpg', 'width': 533, 'height': 400, 'visibility': 'public'}, 'followers': {'count': 0}, 'listItems': {'count': 234, 'items': [{'id': 'v57b2645dcd1036625d521e0b', 'createdAt': 1525596424}]}}]}]}, 'hours': {'status': 'Closed until 11:30 AM', 'richStatus': {'entities': [], 'text': 'Closed until 11:30 AM'}, 'isOpen': False, 'isLocalHoliday': False, 'dayData': [], 'timeframes': [{'days': 'Wed–Thu', 'open': [{'renderedTime': '4:00 PM–10:00 PM'}], 'segments': []}, {'days': 'Fri–Sat', 'includesToday': True, 'open': [{'renderedTime': '11:30 AM–11:00 PM'}], 'segments': []}]}, 'seasonalHours': [], 'defaultHours': {'status': 'Closed until 11:30 AM', 'richStatus': {'entities': [], 'text': 'Closed until 11:30 AM'}, 'isOpen': False, 'isLocalHoliday': False, 'dayData': [], 'timeframes': [{'days': 'Wed–Thu', 'open': [{'renderedTime': '4:00 PM–10:00 PM'}], 'segments': []}, {'days': 'Fri–Sat', 'includesToday': True, 'open': [{'renderedTime': '11:30 AM–11:00 PM'}], 'segments': []}]}, 'pageUpdates': {'count': 0, 'items': []}, 'inbox': {'count': 0, 'items': []}, 'attributes': {'groups': [{'type': 'price', 'name': 'Price', 'summary': '$$', 'count': 1, 'items': [{'displayName': 'Price', 'displayValue': '$$', 'priceTier': 2}]}, {'type': 'outdoorSeating', 'name': 'Outdoor Seating', 'summary': 'Outdoor Seating', 'count': 1, 'items': [{'displayName': 'Outdoor Seating', 'displayValue': 'Yes'}]}, {'type': 'drinks', 'name': 'Drinks', 'summary': 'Full Bar & Cocktails', 'count': 5, 'items': [{'displayName': 'Full Bar', 'displayValue': 'Full Bar'}, {'displayName': 'Cocktails', 'displayValue': 'Cocktails'}]}]}}}}\n",
      "                         ID        Name  Likes  Rating  Tips\n",
      "0  57b2645dcd1036625d521e0b  Korzo Klub      9     7.4     2\n"
     ]
    },
    {
     "name": "stdout",
     "output_type": "stream",
     "text": [
      "{'meta': {'code': 200, 'requestId': '60ba01221008183f46bd5946'}, 'response': {'venue': {'id': '4bae4854f964a520ec9c3be3', 'name': 'Dukagjini Burek', 'contact': {}, 'location': {'address': '758 Lydig Ave', 'lat': 40.854479908427884, 'lng': -73.86541171889682, 'labeledLatLngs': [{'label': 'display', 'lat': 40.854479908427884, 'lng': -73.86541171889682}, {'label': 'entrance', 'lat': 40.854372, 'lng': -73.865431}], 'postalCode': '10462', 'cc': 'US', 'neighborhood': 'Pelham Parkway', 'city': 'Bronx', 'state': 'NY', 'country': 'United States', 'formattedAddress': ['758 Lydig Ave', 'Bronx, NY 10462', 'United States']}, 'canonicalUrl': 'https://foursquare.com/v/dukagjini-burek/4bae4854f964a520ec9c3be3', 'categories': [{'id': '4bf58dd8d48988d109941735', 'name': 'Eastern European Restaurant', 'pluralName': 'Eastern European Restaurants', 'shortName': 'Eastern European', 'icon': {'prefix': 'https://ss3.4sqi.net/img/categories_v2/food/default_', 'suffix': '.png'}, 'primary': True}], 'verified': False, 'stats': {'tipCount': 4}, 'price': {'tier': 2, 'message': 'Moderate', 'currency': '$'}, 'likes': {'count': 6, 'groups': [{'type': 'others', 'count': 6, 'items': []}], 'summary': '6 Likes'}, 'dislike': False, 'ok': False, 'rating': 6.1, 'ratingColor': 'FFC800', 'ratingSignals': 12, 'delivery': {'id': '2097749', 'url': 'https://www.seamless.com/menu/dukagjini-burek-758-lydig-avenue-bronx/2097749?affiliate=1131&utm_source=foursquare-affiliate-network&utm_medium=affiliate&utm_campaign=1131&utm_content=2097749', 'provider': {'name': 'seamless', 'icon': {'prefix': 'https://fastly.4sqi.net/img/general/cap/', 'sizes': [40, 50], 'name': '/delivery_provider_seamless_20180129.png'}}}, 'allowMenuUrlEdit': True, 'beenHere': {'count': 0, 'unconfirmedCount': 0, 'marked': False, 'lastCheckinExpiredAt': 0}, 'specials': {'count': 0, 'items': []}, 'photos': {'count': 9, 'groups': [{'type': 'venue', 'name': 'Venue photos', 'count': 9, 'items': [{'id': '59d11de7c9a51726d936b353', 'createdAt': 1506876903, 'source': {'name': 'Swarm for iOS', 'url': 'https://www.swarmapp.com'}, 'prefix': 'https://fastly.4sqi.net/img/general/', 'suffix': '/2282433_YRzjRP8QrQdGvFQfF0IGCaF8va3Bq2ejqmmhH7dLOnA.jpg', 'width': 1440, 'height': 1920, 'visibility': 'public'}]}]}, 'reasons': {'count': 0, 'items': []}, 'hereNow': {'count': 0, 'summary': 'Nobody here', 'groups': []}, 'createdAt': 1269712980, 'tips': {'count': 4, 'groups': [{'type': 'others', 'name': 'All tips', 'count': 4, 'items': [{'id': '53df8d2d498ef38e9842a348', 'createdAt': 1407159597, 'text': 'The simplicity of this tiny coffee shop is refreshing, with a menu limited to three kinds of bureks (cheese, spinach, and ground meat), homemade yogurt, and the standard permutations of espresso.', 'type': 'user', 'url': 'http://www.voiceplaces.com/new-york/dukagjini-burek-2479436-l', 'canonicalUrl': 'https://foursquare.com/item/53df8d2d498ef38e9842a348', 'photo': {'id': '53df8d2d498ea58545191452', 'createdAt': 1407159597, 'source': {'name': 'Spreadsheet Tip Generator', 'url': 'http://go.foursquare.com/spreadsheetoauth'}, 'prefix': 'https://fastly.4sqi.net/img/general/', 'suffix': '/1868764_kJuHgHvnRkAWIPvIH1yD6e4WkA-n4YRMRNfcrV43BF0.jpg', 'width': 234, 'height': 234, 'visibility': 'public'}, 'photourl': 'https://fastly.4sqi.net/img/general/original/1868764_kJuHgHvnRkAWIPvIH1yD6e4WkA-n4YRMRNfcrV43BF0.jpg', 'lang': 'en', 'likes': {'count': 1, 'groups': [{'type': 'others', 'count': 1, 'items': []}], 'summary': '1 like'}, 'logView': True, 'agreeCount': 1, 'disagreeCount': 0, 'todo': {'count': 2}, 'user': {'firstName': 'Village Voice', 'countryCode': 'US', 'type': 'page'}}]}]}, 'shortUrl': 'http://4sq.com/9ONRai', 'timeZone': 'America/New_York', 'listed': {'count': 15, 'groups': [{'type': 'others', 'name': 'Lists from other people', 'count': 15, 'items': [{'id': '4eedb0349911d70cb81babd0', 'name': 'to do', 'description': '', 'type': 'others', 'user': {'firstName': 'Mariana', 'lastName': 'I', 'countryCode': 'US'}, 'editable': False, 'public': True, 'collaborative': False, 'url': '/marianaiacia/list/to-do', 'canonicalUrl': 'https://foursquare.com/marianaiacia/list/to-do', 'createdAt': 1324199988, 'updatedAt': 1324201866, 'followers': {'count': 2}, 'listItems': {'count': 12, 'items': [{'id': 'v4bae4854f964a520ec9c3be3', 'createdAt': 1324200061}]}}, {'id': '5010af03e4b0dbe156d0e0e4', 'name': \"Baron Ambrosia's Long Lost Map of Bronx Flavor\", 'description': 'For more information\\nbaronambrosia@gmail.com\\ntwitter: @baronambrosia\\n\\nBronx Flavor is produced by BronxNet Television, http://www.bronxnet.org', 'entities': [{'indices': [119, 142], 'type': 'url', 'object': {'url': 'http://www.bronxnet.org'}}], 'type': 'others', 'user': {'firstName': '@mik3caprio', 'countryCode': 'US'}, 'editable': False, 'public': True, 'collaborative': False, 'url': '/mik3caprio/list/baron-ambrosias-long-lost-map-of-bronx-flavor', 'canonicalUrl': 'https://foursquare.com/mik3caprio/list/baron-ambrosias-long-lost-map-of-bronx-flavor', 'createdAt': 1343270659, 'updatedAt': 1343682798, 'followers': {'count': 4}, 'listItems': {'count': 9, 'items': [{'id': 'v4bae4854f964a520ec9c3be3', 'createdAt': 1343270726}]}}, {'id': '50379b8de4b0b4924bccca94', 'name': 'Bronx-To-Do List', 'description': '', 'type': 'others', 'user': {'firstName': 'D', 'countryCode': 'US'}, 'editable': False, 'public': True, 'collaborative': False, 'url': '/user/4174003/list/bronxtodo-list', 'canonicalUrl': 'https://foursquare.com/user/4174003/list/bronxtodo-list', 'createdAt': 1345821581, 'updatedAt': 1406668591, 'photo': {'id': '4e7bb0fc45dd3b0e49bb387b', 'createdAt': 1316729084, 'prefix': 'https://fastly.4sqi.net/img/general/', 'suffix': '/05YJ2ENHLKZ4AEBQB5P4V44WK2ZEOHJ4SPJ3URJBU1GIWFJS.jpg', 'width': 720, 'height': 540, 'visibility': 'public'}, 'followers': {'count': 25}, 'listItems': {'count': 149, 'items': [{'id': 'v4bae4854f964a520ec9c3be3', 'createdAt': 1348842608, 'photo': {'id': '4e6bd590ae603c15ef5f2b43', 'createdAt': 1315689872, 'prefix': 'https://fastly.4sqi.net/img/general/', 'suffix': '/X2Y3I14N0MDGPOALGINHTYOVDHSQ5A2SUDEJARV5TJM3O5J0.jpg', 'width': 720, 'height': 540, 'visibility': 'public'}}]}}, {'id': '53dc9b9f498e074e3323bc5c', 'name': \"Zen's Green Goddesses 🥗\", 'description': 'Places w/ notably fresh veggie dishes or Vegan eats', 'type': 'others', 'user': {'firstName': 'ZenFoodster', 'countryCode': 'US'}, 'editable': False, 'public': True, 'collaborative': False, 'url': '/zenfoodster/list/zens-green-goddesses-', 'canonicalUrl': 'https://foursquare.com/zenfoodster/list/zens-green-goddesses-', 'createdAt': 1406966687, 'updatedAt': 1590225259, 'photo': {'id': '53dc9a78498e442521599922', 'createdAt': 1406966392, 'prefix': 'https://fastly.4sqi.net/img/general/', 'suffix': '/3597604_S_F71Ni9MUs7Y4wZqAqVdnFihs2_8Ri7S-bED3j4XYI.jpg', 'width': 960, 'height': 705, 'visibility': 'public'}, 'followers': {'count': 1}, 'listItems': {'count': 182, 'items': [{'id': 't53df8d2d498ef38e9842a348', 'createdAt': 1503747030, 'photo': {'id': '53df8d2d498ea58545191452', 'createdAt': 1407159597, 'prefix': 'https://fastly.4sqi.net/img/general/', 'suffix': '/1868764_kJuHgHvnRkAWIPvIH1yD6e4WkA-n4YRMRNfcrV43BF0.jpg', 'width': 234, 'height': 234, 'visibility': 'public'}}]}}]}]}, 'seasonalHours': [], 'pageUpdates': {'count': 0, 'items': []}, 'inbox': {'count': 0, 'items': []}, 'attributes': {'groups': [{'type': 'price', 'name': 'Price', 'summary': '$$', 'count': 1, 'items': [{'displayName': 'Price', 'displayValue': '$$', 'priceTier': 2}]}, {'type': 'reservations', 'name': 'Reservations', 'summary': 'Reservations', 'count': 3, 'items': [{'displayName': 'Reservations', 'displayValue': 'Yes'}]}]}, 'bestPhoto': {'id': '59d11de7c9a51726d936b353', 'createdAt': 1506876903, 'source': {'name': 'Swarm for iOS', 'url': 'https://www.swarmapp.com'}, 'prefix': 'https://fastly.4sqi.net/img/general/', 'suffix': '/2282433_YRzjRP8QrQdGvFQfF0IGCaF8va3Bq2ejqmmhH7dLOnA.jpg', 'width': 1440, 'height': 1920, 'visibility': 'public'}, 'colors': {'highlightColor': {'photoId': '59d11de7c9a51726d936b353', 'value': -4144952}, 'highlightTextColor': {'photoId': '59d11de7c9a51726d936b353', 'value': -16777216}, 'algoVersion': 3}}}}\n",
      "                         ID             Name  Likes  Rating  Tips\n",
      "0  4bae4854f964a520ec9c3be3  Dukagjini Burek      6     6.1     4\n"
     ]
    },
    {
     "data": {
      "text/html": [
       "<div>\n",
       "<style scoped>\n",
       "    .dataframe tbody tr th:only-of-type {\n",
       "        vertical-align: middle;\n",
       "    }\n",
       "\n",
       "    .dataframe tbody tr th {\n",
       "        vertical-align: top;\n",
       "    }\n",
       "\n",
       "    .dataframe thead th {\n",
       "        text-align: right;\n",
       "    }\n",
       "</style>\n",
       "<table border=\"1\" class=\"dataframe\">\n",
       "  <thead>\n",
       "    <tr style=\"text-align: right;\">\n",
       "      <th></th>\n",
       "      <th>Borough</th>\n",
       "      <th>Neighborhood</th>\n",
       "      <th>ID</th>\n",
       "      <th>Name</th>\n",
       "      <th>Likes</th>\n",
       "      <th>Rating</th>\n",
       "      <th>Tips</th>\n",
       "    </tr>\n",
       "  </thead>\n",
       "  <tbody>\n",
       "    <tr>\n",
       "      <th>5</th>\n",
       "      <td>Queens</td>\n",
       "      <td>Rockaway Beach</td>\n",
       "      <td>5777fc88498ec5cc1755d079</td>\n",
       "      <td>Uma's</td>\n",
       "      <td>5</td>\n",
       "      <td>6.3</td>\n",
       "      <td>2</td>\n",
       "    </tr>\n",
       "    <tr>\n",
       "      <th>6</th>\n",
       "      <td>Staten Island</td>\n",
       "      <td>Rosebank</td>\n",
       "      <td>57b2645dcd1036625d521e0b</td>\n",
       "      <td>Korzo Klub</td>\n",
       "      <td>9</td>\n",
       "      <td>7.4</td>\n",
       "      <td>2</td>\n",
       "    </tr>\n",
       "    <tr>\n",
       "      <th>7</th>\n",
       "      <td>Staten Island</td>\n",
       "      <td>Grant City</td>\n",
       "      <td>4fa6a903e4b0bbcd4ad315fd</td>\n",
       "      <td>Sorry babushka</td>\n",
       "      <td>4</td>\n",
       "      <td>6.2</td>\n",
       "      <td>4</td>\n",
       "    </tr>\n",
       "    <tr>\n",
       "      <th>8</th>\n",
       "      <td>Staten Island</td>\n",
       "      <td>Clifton</td>\n",
       "      <td>57b2645dcd1036625d521e0b</td>\n",
       "      <td>Korzo Klub</td>\n",
       "      <td>9</td>\n",
       "      <td>7.4</td>\n",
       "      <td>2</td>\n",
       "    </tr>\n",
       "    <tr>\n",
       "      <th>9</th>\n",
       "      <td>Bronx</td>\n",
       "      <td>Bronxdale</td>\n",
       "      <td>4bae4854f964a520ec9c3be3</td>\n",
       "      <td>Dukagjini Burek</td>\n",
       "      <td>6</td>\n",
       "      <td>6.1</td>\n",
       "      <td>4</td>\n",
       "    </tr>\n",
       "  </tbody>\n",
       "</table>\n",
       "</div>"
      ],
      "text/plain": [
       "         Borough    Neighborhood                        ID             Name  \\\n",
       "5         Queens  Rockaway Beach  5777fc88498ec5cc1755d079            Uma's   \n",
       "6  Staten Island        Rosebank  57b2645dcd1036625d521e0b       Korzo Klub   \n",
       "7  Staten Island      Grant City  4fa6a903e4b0bbcd4ad315fd   Sorry babushka   \n",
       "8  Staten Island         Clifton  57b2645dcd1036625d521e0b       Korzo Klub   \n",
       "9          Bronx       Bronxdale  4bae4854f964a520ec9c3be3  Dukagjini Burek   \n",
       "\n",
       "  Likes  Rating Tips  \n",
       "5     5     6.3    2  \n",
       "6     9     7.4    2  \n",
       "7     4     6.2    4  \n",
       "8     9     7.4    2  \n",
       "9     6     6.1    4  "
      ]
     },
     "execution_count": 48,
     "metadata": {},
     "output_type": "execute_result"
    }
   ],
   "source": [
    "column_names=['Borough', 'Neighborhood', 'ID','Name','Likes','Rating','Tips']\n",
    "indian_rest_stats_ny=pd.DataFrame(columns=column_names)\n",
    "#count=1\n",
    "for row in indian_rest_ny.values.tolist():\n",
    "    Borough,Neighborhood,ID,Name=row\n",
    "    try:\n",
    "        venue_details=get_venue_details(ID)\n",
    "        print(venue_details)\n",
    "        id,name,likes,rating,tips=venue_details.values.tolist()[0]\n",
    "    except IndexError:\n",
    "        print('No data available for id=',ID)\n",
    "        # we will assign 0 value for these resturants as they may have been \n",
    "        #recently opened or details does not exist in FourSquare Database\n",
    "        id,name,likes,rating,tips=[0]*5\n",
    "    #print('(',count,'/',len(indian_rest_ny),')','processed')\n",
    "    indian_rest_stats_ny = indian_rest_stats_ny.append({'Borough': Borough,\n",
    "                                                'Neighborhood': Neighborhood, \n",
    "                                                'ID': id,\n",
    "                                                'Name' : name,\n",
    "                                                'Likes' : likes,\n",
    "                                                'Rating' : rating,\n",
    "                                                'Tips' : tips\n",
    "                                               }, ignore_index=True)\n",
    "    #count+=1\n",
    "indian_rest_stats_ny.tail()"
   ]
  },
  {
   "cell_type": "code",
   "execution_count": 50,
   "metadata": {},
   "outputs": [
    {
     "name": "stdout",
     "output_type": "stream",
     "text": [
      "<class 'pandas.core.frame.DataFrame'>\n",
      "RangeIndex: 10 entries, 0 to 9\n",
      "Data columns (total 7 columns):\n",
      " #   Column        Non-Null Count  Dtype  \n",
      "---  ------        --------------  -----  \n",
      " 0   Borough       10 non-null     object \n",
      " 1   Neighborhood  10 non-null     object \n",
      " 2   ID            10 non-null     object \n",
      " 3   Name          10 non-null     object \n",
      " 4   Likes         10 non-null     object \n",
      " 5   Rating        10 non-null     float64\n",
      " 6   Tips          10 non-null     object \n",
      "dtypes: float64(1), object(6)\n",
      "memory usage: 688.0+ bytes\n"
     ]
    }
   ],
   "source": [
    "indian_rest_stats_ny.info()"
   ]
  },
  {
   "cell_type": "code",
   "execution_count": 51,
   "metadata": {},
   "outputs": [
    {
     "name": "stdout",
     "output_type": "stream",
     "text": [
      "<class 'pandas.core.frame.DataFrame'>\n",
      "RangeIndex: 10 entries, 0 to 9\n",
      "Data columns (total 7 columns):\n",
      " #   Column        Non-Null Count  Dtype  \n",
      "---  ------        --------------  -----  \n",
      " 0   Borough       10 non-null     object \n",
      " 1   Neighborhood  10 non-null     object \n",
      " 2   ID            10 non-null     object \n",
      " 3   Name          10 non-null     object \n",
      " 4   Likes         10 non-null     float64\n",
      " 5   Rating        10 non-null     float64\n",
      " 6   Tips          10 non-null     float64\n",
      "dtypes: float64(3), object(4)\n",
      "memory usage: 688.0+ bytes\n"
     ]
    }
   ],
   "source": [
    "indian_rest_stats_ny['Likes'] = indian_rest_stats_ny['Likes'].astype('float64')\n",
    "indian_rest_stats_ny['Tips'] = indian_rest_stats_ny['Tips'].astype('float64')\n",
    "indian_rest_stats_ny.info()"
   ]
  },
  {
   "cell_type": "code",
   "execution_count": 52,
   "metadata": {},
   "outputs": [
    {
     "data": {
      "text/html": [
       "<div>\n",
       "<style scoped>\n",
       "    .dataframe tbody tr th:only-of-type {\n",
       "        vertical-align: middle;\n",
       "    }\n",
       "\n",
       "    .dataframe tbody tr th {\n",
       "        vertical-align: top;\n",
       "    }\n",
       "\n",
       "    .dataframe thead th {\n",
       "        text-align: right;\n",
       "    }\n",
       "</style>\n",
       "<table border=\"1\" class=\"dataframe\">\n",
       "  <thead>\n",
       "    <tr style=\"text-align: right;\">\n",
       "      <th></th>\n",
       "      <th>Likes</th>\n",
       "      <th>Rating</th>\n",
       "      <th>Tips</th>\n",
       "    </tr>\n",
       "  </thead>\n",
       "  <tbody>\n",
       "    <tr>\n",
       "      <th>count</th>\n",
       "      <td>10.000000</td>\n",
       "      <td>10.000000</td>\n",
       "      <td>10.000000</td>\n",
       "    </tr>\n",
       "    <tr>\n",
       "      <th>mean</th>\n",
       "      <td>19.900000</td>\n",
       "      <td>7.120000</td>\n",
       "      <td>7.600000</td>\n",
       "    </tr>\n",
       "    <tr>\n",
       "      <th>std</th>\n",
       "      <td>36.345411</td>\n",
       "      <td>0.820298</td>\n",
       "      <td>11.187294</td>\n",
       "    </tr>\n",
       "    <tr>\n",
       "      <th>min</th>\n",
       "      <td>4.000000</td>\n",
       "      <td>6.100000</td>\n",
       "      <td>2.000000</td>\n",
       "    </tr>\n",
       "    <tr>\n",
       "      <th>25%</th>\n",
       "      <td>6.250000</td>\n",
       "      <td>6.300000</td>\n",
       "      <td>2.500000</td>\n",
       "    </tr>\n",
       "    <tr>\n",
       "      <th>50%</th>\n",
       "      <td>9.000000</td>\n",
       "      <td>7.400000</td>\n",
       "      <td>4.000000</td>\n",
       "    </tr>\n",
       "    <tr>\n",
       "      <th>75%</th>\n",
       "      <td>12.000000</td>\n",
       "      <td>7.700000</td>\n",
       "      <td>6.500000</td>\n",
       "    </tr>\n",
       "    <tr>\n",
       "      <th>max</th>\n",
       "      <td>123.000000</td>\n",
       "      <td>8.200000</td>\n",
       "      <td>39.000000</td>\n",
       "    </tr>\n",
       "  </tbody>\n",
       "</table>\n",
       "</div>"
      ],
      "text/plain": [
       "            Likes     Rating       Tips\n",
       "count   10.000000  10.000000  10.000000\n",
       "mean    19.900000   7.120000   7.600000\n",
       "std     36.345411   0.820298  11.187294\n",
       "min      4.000000   6.100000   2.000000\n",
       "25%      6.250000   6.300000   2.500000\n",
       "50%      9.000000   7.400000   4.000000\n",
       "75%     12.000000   7.700000   6.500000\n",
       "max    123.000000   8.200000  39.000000"
      ]
     },
     "execution_count": 52,
     "metadata": {},
     "output_type": "execute_result"
    }
   ],
   "source": [
    "indian_rest_stats_ny.describe()"
   ]
  },
  {
   "cell_type": "code",
   "execution_count": 53,
   "metadata": {},
   "outputs": [
    {
     "data": {
      "text/plain": [
       "Borough                        Manhattan\n",
       "Neighborhood           Greenwich Village\n",
       "ID              53bacc8f498e55a100c4010e\n",
       "Name                  Old Tbilisi Garden\n",
       "Likes                                123\n",
       "Rating                               8.1\n",
       "Tips                                  39\n",
       "Name: 4, dtype: object"
      ]
     },
     "execution_count": 53,
     "metadata": {},
     "output_type": "execute_result"
    }
   ],
   "source": [
    "indian_rest_stats_ny.iloc[indian_rest_stats_ny['Likes'].idxmax()]"
   ]
  },
  {
   "cell_type": "code",
   "execution_count": 54,
   "metadata": {},
   "outputs": [
    {
     "data": {
      "text/plain": [
       "Borough                            Bronx\n",
       "Neighborhood                     Belmont\n",
       "ID              5a5be0a81108ba5892aa3d0d\n",
       "Name                        Çka Ka Qëllu\n",
       "Likes                                 12\n",
       "Rating                               8.2\n",
       "Tips                                   5\n",
       "Name: 0, dtype: object"
      ]
     },
     "execution_count": 54,
     "metadata": {},
     "output_type": "execute_result"
    }
   ],
   "source": [
    "indian_rest_stats_ny.iloc[indian_rest_stats_ny['Rating'].idxmax()]"
   ]
  },
  {
   "cell_type": "code",
   "execution_count": 55,
   "metadata": {},
   "outputs": [
    {
     "data": {
      "text/plain": [
       "Borough                        Manhattan\n",
       "Neighborhood           Greenwich Village\n",
       "ID              53bacc8f498e55a100c4010e\n",
       "Name                  Old Tbilisi Garden\n",
       "Likes                                123\n",
       "Rating                               8.1\n",
       "Tips                                  39\n",
       "Name: 4, dtype: object"
      ]
     },
     "execution_count": 55,
     "metadata": {},
     "output_type": "execute_result"
    }
   ],
   "source": [
    "indian_rest_stats_ny.iloc[indian_rest_stats_ny['Tips'].idxmax()]\n"
   ]
  },
  {
   "cell_type": "code",
   "execution_count": 56,
   "metadata": {},
   "outputs": [
    {
     "data": {
      "text/html": [
       "<div>\n",
       "<style scoped>\n",
       "    .dataframe tbody tr th:only-of-type {\n",
       "        vertical-align: middle;\n",
       "    }\n",
       "\n",
       "    .dataframe tbody tr th {\n",
       "        vertical-align: top;\n",
       "    }\n",
       "\n",
       "    .dataframe thead th {\n",
       "        text-align: right;\n",
       "    }\n",
       "</style>\n",
       "<table border=\"1\" class=\"dataframe\">\n",
       "  <thead>\n",
       "    <tr style=\"text-align: right;\">\n",
       "      <th></th>\n",
       "      <th>Neighborhood</th>\n",
       "      <th>Average Rating</th>\n",
       "    </tr>\n",
       "  </thead>\n",
       "  <tbody>\n",
       "    <tr>\n",
       "      <th>0</th>\n",
       "      <td>Belmont</td>\n",
       "      <td>8.20</td>\n",
       "    </tr>\n",
       "    <tr>\n",
       "      <th>5</th>\n",
       "      <td>Greenwich Village</td>\n",
       "      <td>8.10</td>\n",
       "    </tr>\n",
       "    <tr>\n",
       "      <th>6</th>\n",
       "      <td>Lenox Hill</td>\n",
       "      <td>7.80</td>\n",
       "    </tr>\n",
       "    <tr>\n",
       "      <th>3</th>\n",
       "      <td>Clifton</td>\n",
       "      <td>7.40</td>\n",
       "    </tr>\n",
       "    <tr>\n",
       "      <th>8</th>\n",
       "      <td>Rosebank</td>\n",
       "      <td>7.40</td>\n",
       "    </tr>\n",
       "    <tr>\n",
       "      <th>1</th>\n",
       "      <td>Brighton Beach</td>\n",
       "      <td>6.85</td>\n",
       "    </tr>\n",
       "    <tr>\n",
       "      <th>7</th>\n",
       "      <td>Rockaway Beach</td>\n",
       "      <td>6.30</td>\n",
       "    </tr>\n",
       "    <tr>\n",
       "      <th>4</th>\n",
       "      <td>Grant City</td>\n",
       "      <td>6.20</td>\n",
       "    </tr>\n",
       "    <tr>\n",
       "      <th>2</th>\n",
       "      <td>Bronxdale</td>\n",
       "      <td>6.10</td>\n",
       "    </tr>\n",
       "  </tbody>\n",
       "</table>\n",
       "</div>"
      ],
      "text/plain": [
       "        Neighborhood  Average Rating\n",
       "0            Belmont            8.20\n",
       "5  Greenwich Village            8.10\n",
       "6         Lenox Hill            7.80\n",
       "3            Clifton            7.40\n",
       "8           Rosebank            7.40\n",
       "1     Brighton Beach            6.85\n",
       "7     Rockaway Beach            6.30\n",
       "4         Grant City            6.20\n",
       "2          Bronxdale            6.10"
      ]
     },
     "execution_count": 56,
     "metadata": {},
     "output_type": "execute_result"
    }
   ],
   "source": [
    "ny_neighborhood_stats=indian_rest_stats_ny.groupby('Neighborhood',as_index=False).mean()[['Neighborhood','Rating']]\n",
    "ny_neighborhood_stats.columns=['Neighborhood','Average Rating']\n",
    "ny_neighborhood_stats.sort_values(['Average Rating'],ascending=False).head(10)"
   ]
  },
  {
   "cell_type": "code",
   "execution_count": 57,
   "metadata": {},
   "outputs": [
    {
     "data": {
      "image/png": "[encoded data removed]",
      "text/plain": [
       "<Figure size 900x500 with 1 Axes>"
      ]
     },
     "metadata": {
      "needs_background": "light"
     },
     "output_type": "display_data"
    }
   ],
   "source": [
    "plt.figure(figsize=(9,5), dpi = 100)\n",
    "plt.title('Average rating of Indian Restaurants for each Borough')\n",
    "plt.xlabel('Borough', fontsize = 15)\n",
    "plt.ylabel('Average Rating', fontsize=15)\n",
    "indian_rest_stats_ny.groupby('Borough').mean()['Rating'].plot(kind='bar', color=clr)\n",
    "plt.legend()\n",
    "plt.show()"
   ]
  },
  {
   "cell_type": "code",
   "execution_count": 58,
   "metadata": {},
   "outputs": [
    {
     "data": {
      "text/html": [
       "<div>\n",
       "<style scoped>\n",
       "    .dataframe tbody tr th:only-of-type {\n",
       "        vertical-align: middle;\n",
       "    }\n",
       "\n",
       "    .dataframe tbody tr th {\n",
       "        vertical-align: top;\n",
       "    }\n",
       "\n",
       "    .dataframe thead th {\n",
       "        text-align: right;\n",
       "    }\n",
       "</style>\n",
       "<table border=\"1\" class=\"dataframe\">\n",
       "  <thead>\n",
       "    <tr style=\"text-align: right;\">\n",
       "      <th></th>\n",
       "      <th>Borough</th>\n",
       "      <th>Neighborhood</th>\n",
       "      <th>Latitude</th>\n",
       "      <th>Longitude</th>\n",
       "      <th>Average Rating</th>\n",
       "    </tr>\n",
       "  </thead>\n",
       "  <tbody>\n",
       "    <tr>\n",
       "      <th>0</th>\n",
       "      <td>Bronx</td>\n",
       "      <td>Belmont</td>\n",
       "      <td>40.857277</td>\n",
       "      <td>-73.888452</td>\n",
       "      <td>8.20</td>\n",
       "    </tr>\n",
       "    <tr>\n",
       "      <th>1</th>\n",
       "      <td>Brooklyn</td>\n",
       "      <td>Brighton Beach</td>\n",
       "      <td>40.576825</td>\n",
       "      <td>-73.965094</td>\n",
       "      <td>6.85</td>\n",
       "    </tr>\n",
       "    <tr>\n",
       "      <th>2</th>\n",
       "      <td>Bronx</td>\n",
       "      <td>Bronxdale</td>\n",
       "      <td>40.852723</td>\n",
       "      <td>-73.861726</td>\n",
       "      <td>6.10</td>\n",
       "    </tr>\n",
       "    <tr>\n",
       "      <th>3</th>\n",
       "      <td>Staten Island</td>\n",
       "      <td>Clifton</td>\n",
       "      <td>40.619178</td>\n",
       "      <td>-74.072642</td>\n",
       "      <td>7.40</td>\n",
       "    </tr>\n",
       "    <tr>\n",
       "      <th>4</th>\n",
       "      <td>Staten Island</td>\n",
       "      <td>Grant City</td>\n",
       "      <td>40.576216</td>\n",
       "      <td>-74.105856</td>\n",
       "      <td>6.20</td>\n",
       "    </tr>\n",
       "    <tr>\n",
       "      <th>5</th>\n",
       "      <td>Manhattan</td>\n",
       "      <td>Greenwich Village</td>\n",
       "      <td>40.726933</td>\n",
       "      <td>-73.999914</td>\n",
       "      <td>8.10</td>\n",
       "    </tr>\n",
       "    <tr>\n",
       "      <th>6</th>\n",
       "      <td>Manhattan</td>\n",
       "      <td>Lenox Hill</td>\n",
       "      <td>40.768113</td>\n",
       "      <td>-73.958860</td>\n",
       "      <td>7.80</td>\n",
       "    </tr>\n",
       "    <tr>\n",
       "      <th>7</th>\n",
       "      <td>Queens</td>\n",
       "      <td>Rockaway Beach</td>\n",
       "      <td>40.582802</td>\n",
       "      <td>-73.822361</td>\n",
       "      <td>6.30</td>\n",
       "    </tr>\n",
       "    <tr>\n",
       "      <th>8</th>\n",
       "      <td>Staten Island</td>\n",
       "      <td>Rosebank</td>\n",
       "      <td>40.615305</td>\n",
       "      <td>-74.069805</td>\n",
       "      <td>7.40</td>\n",
       "    </tr>\n",
       "  </tbody>\n",
       "</table>\n",
       "</div>"
      ],
      "text/plain": [
       "         Borough       Neighborhood   Latitude  Longitude  Average Rating\n",
       "0          Bronx            Belmont  40.857277 -73.888452            8.20\n",
       "1       Brooklyn     Brighton Beach  40.576825 -73.965094            6.85\n",
       "2          Bronx          Bronxdale  40.852723 -73.861726            6.10\n",
       "3  Staten Island            Clifton  40.619178 -74.072642            7.40\n",
       "4  Staten Island         Grant City  40.576216 -74.105856            6.20\n",
       "5      Manhattan  Greenwich Village  40.726933 -73.999914            8.10\n",
       "6      Manhattan         Lenox Hill  40.768113 -73.958860            7.80\n",
       "7         Queens     Rockaway Beach  40.582802 -73.822361            6.30\n",
       "8  Staten Island           Rosebank  40.615305 -74.069805            7.40"
      ]
     },
     "execution_count": 58,
     "metadata": {},
     "output_type": "execute_result"
    }
   ],
   "source": [
    "ny_neighborhood_stats=pd.merge(ny_neighborhood_stats,ny_data, on='Neighborhood')\n",
    "ny_neighborhood_stats=ny_neighborhood_stats[['Borough','Neighborhood','Latitude','Longitude','Average Rating']]\n",
    "ny_neighborhood_stats"
   ]
  },
  {
   "cell_type": "code",
   "execution_count": 59,
   "metadata": {},
   "outputs": [],
   "source": [
    "\n",
    "# create map and display it\n",
    "ny_map = folium.Map(location=geo_location('New York'), zoom_start=12)\n",
    "# instantiate a feature group for the ratings in the dataframe\n",
    "rating = folium.map.FeatureGroup()\n",
    "\n",
    "# loop through the ratings and add each to the neighborhood feature group\n",
    "for lat, lng, in ny_neighborhood_stats[['Latitude','Longitude']].values:\n",
    "    rating.add_child(\n",
    "        folium.CircleMarker(\n",
    "            [lat, lng],\n",
    "            radius=10, # define how big you want the circle markers to be\n",
    "            color='yellow',\n",
    "            fill=True,\n",
    "            fill_color='blue',\n",
    "            fill_opacity=0.6\n",
    "        )\n",
    "    )"
   ]
  },
  {
   "cell_type": "code",
   "execution_count": 61,
   "metadata": {},
   "outputs": [
    {
     "data": {
      "text/html": [
       "<div style=\"width:100%;\"><div style=\"position:relative;width:100%;height:0;padding-bottom:60%;\"><span style=\"color:#565656\">Make this Notebook Trusted to load map: File -> Trust Notebook</span><iframe src=\"about:blank\" style=\"position:absolute;width:100%;height:100%;left:0;top:0;border:none !important;\" data-html=%3C%21DOCTYPE%20html%3E%0A%3Chead%3E%20%20%20%20%0A%20%20%20%20%3Cmeta%20http-equiv%3D%22content-type%22%20content%3D%22text/html%3B%20charset%3DUTF-8%22%20/%3E%0A%20%20%20%20%0A%20%20%20%20%20%20%20%20%3Cscript%3E%0A%20%20%20%20%20%20%20%20%20%20%20%20L_NO_TOUCH%20%3D%20false%3B%0A%20%20%20%20%20%20%20%20%20%20%20%20L_DISABLE_3D%20%3D%20false%3B%0A%20%20%20%20%20%20%20%20%3C/script%3E%0A%20%20%20%20%0A%20%20%20%20%3Cstyle%3Ehtml%2C%20body%20%7Bwidth%3A%20100%25%3Bheight%3A%20100%25%3Bmargin%3A%200%3Bpadding%3A%200%3B%7D%3C/style%3E%0A%20%20%20%20%3Cstyle%3E%23map%20%7Bposition%3Aabsolute%3Btop%3A0%3Bbottom%3A0%3Bright%3A0%3Bleft%3A0%3B%7D%3C/style%3E%0A%20%20%20%20%3Cscript%20src%3D%22https%3A//cdn.jsdelivr.net/npm/leaflet%401.6.0/dist/leaflet.js%22%3E%3C/script%3E%0A%20%20%20%20%3Cscript%20src%3D%22https%3A//code.jquery.com/jquery-1.12.4.min.js%22%3E%3C/script%3E%0A%20%20%20%20%3Cscript%20src%3D%22https%3A//maxcdn.bootstrapcdn.com/bootstrap/3.2.0/js/bootstrap.min.js%22%3E%3C/script%3E%0A%20%20%20%20%3Cscript%20src%3D%22https%3A//cdnjs.cloudflare.com/ajax/libs/Leaflet.awesome-markers/2.0.2/leaflet.awesome-markers.js%22%3E%3C/script%3E%0A%20%20%20%20%3Clink%20rel%3D%22stylesheet%22%20href%3D%22https%3A//cdn.jsdelivr.net/npm/leaflet%401.6.0/dist/leaflet.css%22/%3E%0A%20%20%20%20%3Clink%20rel%3D%22stylesheet%22%20href%3D%22https%3A//maxcdn.bootstrapcdn.com/bootstrap/3.2.0/css/bootstrap.min.css%22/%3E%0A%20%20%20%20%3Clink%20rel%3D%22stylesheet%22%20href%3D%22https%3A//maxcdn.bootstrapcdn.com/bootstrap/3.2.0/css/bootstrap-theme.min.css%22/%3E%0A%20%20%20%20%3Clink%20rel%3D%22stylesheet%22%20href%3D%22https%3A//maxcdn.bootstrapcdn.com/font-awesome/4.6.3/css/font-awesome.min.css%22/%3E%0A%20%20%20%20%3Clink%20rel%3D%22stylesheet%22%20href%3D%22https%3A//cdnjs.cloudflare.com/ajax/libs/Leaflet.awesome-markers/2.0.2/leaflet.awesome-markers.css%22/%3E%0A%20%20%20%20%3Clink%20rel%3D%22stylesheet%22%20href%3D%22https%3A//cdn.jsdelivr.net/gh/python-visualization/folium/folium/templates/leaflet.awesome.rotate.min.css%22/%3E%0A%20%20%20%20%0A%20%20%20%20%20%20%20%20%20%20%20%20%3Cmeta%20name%3D%22viewport%22%20content%3D%22width%3Ddevice-width%2C%0A%20%20%20%20%20%20%20%20%20%20%20%20%20%20%20%20initial-scale%3D1.0%2C%20maximum-scale%3D1.0%2C%20user-scalable%3Dno%22%20/%3E%0A%20%20%20%20%20%20%20%20%20%20%20%20%3Cstyle%3E%0A%20%20%20%20%20%20%20%20%20%20%20%20%20%20%20%20%23map_50f508bc090043ed8dd7bd026a017361%20%7B%0A%20%20%20%20%20%20%20%20%20%20%20%20%20%20%20%20%20%20%20%20position%3A%20relative%3B%0A%20%20%20%20%20%20%20%20%20%20%20%20%20%20%20%20%20%20%20%20width%3A%20100.0%25%3B%0A%20%20%20%20%20%20%20%20%20%20%20%20%20%20%20%20%20%20%20%20height%3A%20100.0%25%3B%0A%20%20%20%20%20%20%20%20%20%20%20%20%20%20%20%20%20%20%20%20left%3A%200.0%25%3B%0A%20%20%20%20%20%20%20%20%20%20%20%20%20%20%20%20%20%20%20%20top%3A%200.0%25%3B%0A%20%20%20%20%20%20%20%20%20%20%20%20%20%20%20%20%7D%0A%20%20%20%20%20%20%20%20%20%20%20%20%3C/style%3E%0A%20%20%20%20%20%20%20%20%0A%3C/head%3E%0A%3Cbody%3E%20%20%20%20%0A%20%20%20%20%0A%20%20%20%20%20%20%20%20%20%20%20%20%3Cdiv%20class%3D%22folium-map%22%20id%3D%22map_50f508bc090043ed8dd7bd026a017361%22%20%3E%3C/div%3E%0A%20%20%20%20%20%20%20%20%0A%3C/body%3E%0A%3Cscript%3E%20%20%20%20%0A%20%20%20%20%0A%20%20%20%20%20%20%20%20%20%20%20%20var%20map_50f508bc090043ed8dd7bd026a017361%20%3D%20L.map%28%0A%20%20%20%20%20%20%20%20%20%20%20%20%20%20%20%20%22map_50f508bc090043ed8dd7bd026a017361%22%2C%0A%20%20%20%20%20%20%20%20%20%20%20%20%20%20%20%20%7B%0A%20%20%20%20%20%20%20%20%20%20%20%20%20%20%20%20%20%20%20%20center%3A%20%5B40.7127281%2C%20-74.0060152%5D%2C%0A%20%20%20%20%20%20%20%20%20%20%20%20%20%20%20%20%20%20%20%20crs%3A%20L.CRS.EPSG3857%2C%0A%20%20%20%20%20%20%20%20%20%20%20%20%20%20%20%20%20%20%20%20zoom%3A%2012%2C%0A%20%20%20%20%20%20%20%20%20%20%20%20%20%20%20%20%20%20%20%20zoomControl%3A%20true%2C%0A%20%20%20%20%20%20%20%20%20%20%20%20%20%20%20%20%20%20%20%20preferCanvas%3A%20false%2C%0A%20%20%20%20%20%20%20%20%20%20%20%20%20%20%20%20%7D%0A%20%20%20%20%20%20%20%20%20%20%20%20%29%3B%0A%0A%20%20%20%20%20%20%20%20%20%20%20%20%0A%0A%20%20%20%20%20%20%20%20%0A%20%20%20%20%0A%20%20%20%20%20%20%20%20%20%20%20%20var%20tile_layer_470ad437e9294eb7bd23b2db29a675d7%20%3D%20L.tileLayer%28%0A%20%20%20%20%20%20%20%20%20%20%20%20%20%20%20%20%22https%3A//%7Bs%7D.tile.openstreetmap.org/%7Bz%7D/%7Bx%7D/%7By%7D.png%22%2C%0A%20%20%20%20%20%20%20%20%20%20%20%20%20%20%20%20%7B%22attribution%22%3A%20%22Data%20by%20%5Cu0026copy%3B%20%5Cu003ca%20href%3D%5C%22http%3A//openstreetmap.org%5C%22%5Cu003eOpenStreetMap%5Cu003c/a%5Cu003e%2C%20under%20%5Cu003ca%20href%3D%5C%22http%3A//www.openstreetmap.org/copyright%5C%22%5Cu003eODbL%5Cu003c/a%5Cu003e.%22%2C%20%22detectRetina%22%3A%20false%2C%20%22maxNativeZoom%22%3A%2018%2C%20%22maxZoom%22%3A%2018%2C%20%22minZoom%22%3A%200%2C%20%22noWrap%22%3A%20false%2C%20%22opacity%22%3A%201%2C%20%22subdomains%22%3A%20%22abc%22%2C%20%22tms%22%3A%20false%7D%0A%20%20%20%20%20%20%20%20%20%20%20%20%29.addTo%28map_50f508bc090043ed8dd7bd026a017361%29%3B%0A%20%20%20%20%20%20%20%20%0A%20%20%20%20%0A%20%20%20%20%20%20%20%20%20%20%20%20var%20marker_afc4918442784de681d2b9c2f9de8464%20%3D%20L.marker%28%0A%20%20%20%20%20%20%20%20%20%20%20%20%20%20%20%20%5B40.85727710073895%2C%20-73.88845196134804%5D%2C%0A%20%20%20%20%20%20%20%20%20%20%20%20%20%20%20%20%7B%7D%0A%20%20%20%20%20%20%20%20%20%20%20%20%29.addTo%28map_50f508bc090043ed8dd7bd026a017361%29%3B%0A%20%20%20%20%20%20%20%20%0A%20%20%20%20%0A%20%20%20%20%20%20%20%20var%20popup_548f9a7e2acc4001b1b6890ca0ecc95d%20%3D%20L.popup%28%7B%22maxWidth%22%3A%20%22100%25%22%7D%29%3B%0A%0A%20%20%20%20%20%20%20%20%0A%20%20%20%20%20%20%20%20%20%20%20%20var%20html_d5f47adcbcdb402486029fc3fae8ec26%20%3D%20%24%28%60%3Cdiv%20id%3D%22html_d5f47adcbcdb402486029fc3fae8ec26%22%20style%3D%22width%3A%20100.0%25%3B%20height%3A%20100.0%25%3B%22%3EBelmont%2C%20Bronx%288.2%29%3C/div%3E%60%29%5B0%5D%3B%0A%20%20%20%20%20%20%20%20%20%20%20%20popup_548f9a7e2acc4001b1b6890ca0ecc95d.setContent%28html_d5f47adcbcdb402486029fc3fae8ec26%29%3B%0A%20%20%20%20%20%20%20%20%0A%0A%20%20%20%20%20%20%20%20marker_afc4918442784de681d2b9c2f9de8464.bindPopup%28popup_548f9a7e2acc4001b1b6890ca0ecc95d%29%0A%20%20%20%20%20%20%20%20%3B%0A%0A%20%20%20%20%20%20%20%20%0A%20%20%20%20%0A%20%20%20%20%0A%20%20%20%20%20%20%20%20%20%20%20%20var%20marker_2c3e4d609ed84f97913fc327708fcd67%20%3D%20L.marker%28%0A%20%20%20%20%20%20%20%20%20%20%20%20%20%20%20%20%5B40.57682506566604%2C%20-73.96509448785336%5D%2C%0A%20%20%20%20%20%20%20%20%20%20%20%20%20%20%20%20%7B%7D%0A%20%20%20%20%20%20%20%20%20%20%20%20%29.addTo%28map_50f508bc090043ed8dd7bd026a017361%29%3B%0A%20%20%20%20%20%20%20%20%0A%20%20%20%20%0A%20%20%20%20%20%20%20%20var%20popup_84735fcabace423e97c123b820f271cc%20%3D%20L.popup%28%7B%22maxWidth%22%3A%20%22100%25%22%7D%29%3B%0A%0A%20%20%20%20%20%20%20%20%0A%20%20%20%20%20%20%20%20%20%20%20%20var%20html_05fa6db630f7430a92ed8ce8bba20993%20%3D%20%24%28%60%3Cdiv%20id%3D%22html_05fa6db630f7430a92ed8ce8bba20993%22%20style%3D%22width%3A%20100.0%25%3B%20height%3A%20100.0%25%3B%22%3EBrighton%20Beach%2C%20Brooklyn%286.85%29%3C/div%3E%60%29%5B0%5D%3B%0A%20%20%20%20%20%20%20%20%20%20%20%20popup_84735fcabace423e97c123b820f271cc.setContent%28html_05fa6db630f7430a92ed8ce8bba20993%29%3B%0A%20%20%20%20%20%20%20%20%0A%0A%20%20%20%20%20%20%20%20marker_2c3e4d609ed84f97913fc327708fcd67.bindPopup%28popup_84735fcabace423e97c123b820f271cc%29%0A%20%20%20%20%20%20%20%20%3B%0A%0A%20%20%20%20%20%20%20%20%0A%20%20%20%20%0A%20%20%20%20%0A%20%20%20%20%20%20%20%20%20%20%20%20var%20marker_e29fb98f88d7433ea7a3513af1c02785%20%3D%20L.marker%28%0A%20%20%20%20%20%20%20%20%20%20%20%20%20%20%20%20%5B40.85272297633017%2C%20-73.86172577555115%5D%2C%0A%20%20%20%20%20%20%20%20%20%20%20%20%20%20%20%20%7B%7D%0A%20%20%20%20%20%20%20%20%20%20%20%20%29.addTo%28map_50f508bc090043ed8dd7bd026a017361%29%3B%0A%20%20%20%20%20%20%20%20%0A%20%20%20%20%0A%20%20%20%20%20%20%20%20var%20popup_f698ccfd19d3467c9e94370ae0143bda%20%3D%20L.popup%28%7B%22maxWidth%22%3A%20%22100%25%22%7D%29%3B%0A%0A%20%20%20%20%20%20%20%20%0A%20%20%20%20%20%20%20%20%20%20%20%20var%20html_f8b29e5e11df4d7baa7aba97b457c243%20%3D%20%24%28%60%3Cdiv%20id%3D%22html_f8b29e5e11df4d7baa7aba97b457c243%22%20style%3D%22width%3A%20100.0%25%3B%20height%3A%20100.0%25%3B%22%3EBronxdale%2C%20Bronx%286.1%29%3C/div%3E%60%29%5B0%5D%3B%0A%20%20%20%20%20%20%20%20%20%20%20%20popup_f698ccfd19d3467c9e94370ae0143bda.setContent%28html_f8b29e5e11df4d7baa7aba97b457c243%29%3B%0A%20%20%20%20%20%20%20%20%0A%0A%20%20%20%20%20%20%20%20marker_e29fb98f88d7433ea7a3513af1c02785.bindPopup%28popup_f698ccfd19d3467c9e94370ae0143bda%29%0A%20%20%20%20%20%20%20%20%3B%0A%0A%20%20%20%20%20%20%20%20%0A%20%20%20%20%0A%20%20%20%20%0A%20%20%20%20%20%20%20%20%20%20%20%20var%20marker_589069154d454062aba821250f8afe8b%20%3D%20L.marker%28%0A%20%20%20%20%20%20%20%20%20%20%20%20%20%20%20%20%5B40.61917845202843%2C%20-74.072642445484%5D%2C%0A%20%20%20%20%20%20%20%20%20%20%20%20%20%20%20%20%7B%7D%0A%20%20%20%20%20%20%20%20%20%20%20%20%29.addTo%28map_50f508bc090043ed8dd7bd026a017361%29%3B%0A%20%20%20%20%20%20%20%20%0A%20%20%20%20%0A%20%20%20%20%20%20%20%20var%20popup_ddc7cb3bade343f892a0d2fd50fc51c8%20%3D%20L.popup%28%7B%22maxWidth%22%3A%20%22100%25%22%7D%29%3B%0A%0A%20%20%20%20%20%20%20%20%0A%20%20%20%20%20%20%20%20%20%20%20%20var%20html_6e71e8bdf35e4f299ad36cdb0fb5a420%20%3D%20%24%28%60%3Cdiv%20id%3D%22html_6e71e8bdf35e4f299ad36cdb0fb5a420%22%20style%3D%22width%3A%20100.0%25%3B%20height%3A%20100.0%25%3B%22%3EClifton%2C%20Staten%20Island%287.4%29%3C/div%3E%60%29%5B0%5D%3B%0A%20%20%20%20%20%20%20%20%20%20%20%20popup_ddc7cb3bade343f892a0d2fd50fc51c8.setContent%28html_6e71e8bdf35e4f299ad36cdb0fb5a420%29%3B%0A%20%20%20%20%20%20%20%20%0A%0A%20%20%20%20%20%20%20%20marker_589069154d454062aba821250f8afe8b.bindPopup%28popup_ddc7cb3bade343f892a0d2fd50fc51c8%29%0A%20%20%20%20%20%20%20%20%3B%0A%0A%20%20%20%20%20%20%20%20%0A%20%20%20%20%0A%20%20%20%20%0A%20%20%20%20%20%20%20%20%20%20%20%20var%20marker_59e423869bc34275be52cf2152f409b3%20%3D%20L.marker%28%0A%20%20%20%20%20%20%20%20%20%20%20%20%20%20%20%20%5B40.57621558711788%2C%20-74.10585598545434%5D%2C%0A%20%20%20%20%20%20%20%20%20%20%20%20%20%20%20%20%7B%7D%0A%20%20%20%20%20%20%20%20%20%20%20%20%29.addTo%28map_50f508bc090043ed8dd7bd026a017361%29%3B%0A%20%20%20%20%20%20%20%20%0A%20%20%20%20%0A%20%20%20%20%20%20%20%20var%20popup_532875a4f5e84e4f8d24fdd4293b7855%20%3D%20L.popup%28%7B%22maxWidth%22%3A%20%22100%25%22%7D%29%3B%0A%0A%20%20%20%20%20%20%20%20%0A%20%20%20%20%20%20%20%20%20%20%20%20var%20html_c07f8becab034f429f4995b1149963df%20%3D%20%24%28%60%3Cdiv%20id%3D%22html_c07f8becab034f429f4995b1149963df%22%20style%3D%22width%3A%20100.0%25%3B%20height%3A%20100.0%25%3B%22%3EGrant%20City%2C%20Staten%20Island%286.2%29%3C/div%3E%60%29%5B0%5D%3B%0A%20%20%20%20%20%20%20%20%20%20%20%20popup_532875a4f5e84e4f8d24fdd4293b7855.setContent%28html_c07f8becab034f429f4995b1149963df%29%3B%0A%20%20%20%20%20%20%20%20%0A%0A%20%20%20%20%20%20%20%20marker_59e423869bc34275be52cf2152f409b3.bindPopup%28popup_532875a4f5e84e4f8d24fdd4293b7855%29%0A%20%20%20%20%20%20%20%20%3B%0A%0A%20%20%20%20%20%20%20%20%0A%20%20%20%20%0A%20%20%20%20%0A%20%20%20%20%20%20%20%20%20%20%20%20var%20marker_3c46fe8e680845a8bb2d5f92f48409fe%20%3D%20L.marker%28%0A%20%20%20%20%20%20%20%20%20%20%20%20%20%20%20%20%5B40.72693288536128%2C%20-73.99991402945902%5D%2C%0A%20%20%20%20%20%20%20%20%20%20%20%20%20%20%20%20%7B%7D%0A%20%20%20%20%20%20%20%20%20%20%20%20%29.addTo%28map_50f508bc090043ed8dd7bd026a017361%29%3B%0A%20%20%20%20%20%20%20%20%0A%20%20%20%20%0A%20%20%20%20%20%20%20%20var%20popup_3c410cb62cf04e40957ed6b10e13273f%20%3D%20L.popup%28%7B%22maxWidth%22%3A%20%22100%25%22%7D%29%3B%0A%0A%20%20%20%20%20%20%20%20%0A%20%20%20%20%20%20%20%20%20%20%20%20var%20html_d45fd348a04145cca11891ff1de1836e%20%3D%20%24%28%60%3Cdiv%20id%3D%22html_d45fd348a04145cca11891ff1de1836e%22%20style%3D%22width%3A%20100.0%25%3B%20height%3A%20100.0%25%3B%22%3EGreenwich%20Village%2C%20Manhattan%288.1%29%3C/div%3E%60%29%5B0%5D%3B%0A%20%20%20%20%20%20%20%20%20%20%20%20popup_3c410cb62cf04e40957ed6b10e13273f.setContent%28html_d45fd348a04145cca11891ff1de1836e%29%3B%0A%20%20%20%20%20%20%20%20%0A%0A%20%20%20%20%20%20%20%20marker_3c46fe8e680845a8bb2d5f92f48409fe.bindPopup%28popup_3c410cb62cf04e40957ed6b10e13273f%29%0A%20%20%20%20%20%20%20%20%3B%0A%0A%20%20%20%20%20%20%20%20%0A%20%20%20%20%0A%20%20%20%20%0A%20%20%20%20%20%20%20%20%20%20%20%20var%20marker_ee14ded7f04d41d3b4699cbe68799280%20%3D%20L.marker%28%0A%20%20%20%20%20%20%20%20%20%20%20%20%20%20%20%20%5B40.76811265828733%2C%20-73.9588596881376%5D%2C%0A%20%20%20%20%20%20%20%20%20%20%20%20%20%20%20%20%7B%7D%0A%20%20%20%20%20%20%20%20%20%20%20%20%29.addTo%28map_50f508bc090043ed8dd7bd026a017361%29%3B%0A%20%20%20%20%20%20%20%20%0A%20%20%20%20%0A%20%20%20%20%20%20%20%20var%20popup_012e7111394a4cf6b7de90d5a6bebe63%20%3D%20L.popup%28%7B%22maxWidth%22%3A%20%22100%25%22%7D%29%3B%0A%0A%20%20%20%20%20%20%20%20%0A%20%20%20%20%20%20%20%20%20%20%20%20var%20html_22ca78b44d6d4f7e94dcfd4720c4e221%20%3D%20%24%28%60%3Cdiv%20id%3D%22html_22ca78b44d6d4f7e94dcfd4720c4e221%22%20style%3D%22width%3A%20100.0%25%3B%20height%3A%20100.0%25%3B%22%3ELenox%20Hill%2C%20Manhattan%287.8%29%3C/div%3E%60%29%5B0%5D%3B%0A%20%20%20%20%20%20%20%20%20%20%20%20popup_012e7111394a4cf6b7de90d5a6bebe63.setContent%28html_22ca78b44d6d4f7e94dcfd4720c4e221%29%3B%0A%20%20%20%20%20%20%20%20%0A%0A%20%20%20%20%20%20%20%20marker_ee14ded7f04d41d3b4699cbe68799280.bindPopup%28popup_012e7111394a4cf6b7de90d5a6bebe63%29%0A%20%20%20%20%20%20%20%20%3B%0A%0A%20%20%20%20%20%20%20%20%0A%20%20%20%20%0A%20%20%20%20%0A%20%20%20%20%20%20%20%20%20%20%20%20var%20marker_b5882df5154b40ae948176cd0734aded%20%3D%20L.marker%28%0A%20%20%20%20%20%20%20%20%20%20%20%20%20%20%20%20%5B40.582801696845586%2C%20-73.82236121088751%5D%2C%0A%20%20%20%20%20%20%20%20%20%20%20%20%20%20%20%20%7B%7D%0A%20%20%20%20%20%20%20%20%20%20%20%20%29.addTo%28map_50f508bc090043ed8dd7bd026a017361%29%3B%0A%20%20%20%20%20%20%20%20%0A%20%20%20%20%0A%20%20%20%20%20%20%20%20var%20popup_6f32c75fb1474846b0cc3cada82f0587%20%3D%20L.popup%28%7B%22maxWidth%22%3A%20%22100%25%22%7D%29%3B%0A%0A%20%20%20%20%20%20%20%20%0A%20%20%20%20%20%20%20%20%20%20%20%20var%20html_316dcc07c95e497b927736b8f704e32c%20%3D%20%24%28%60%3Cdiv%20id%3D%22html_316dcc07c95e497b927736b8f704e32c%22%20style%3D%22width%3A%20100.0%25%3B%20height%3A%20100.0%25%3B%22%3ERockaway%20Beach%2C%20Queens%286.3%29%3C/div%3E%60%29%5B0%5D%3B%0A%20%20%20%20%20%20%20%20%20%20%20%20popup_6f32c75fb1474846b0cc3cada82f0587.setContent%28html_316dcc07c95e497b927736b8f704e32c%29%3B%0A%20%20%20%20%20%20%20%20%0A%0A%20%20%20%20%20%20%20%20marker_b5882df5154b40ae948176cd0734aded.bindPopup%28popup_6f32c75fb1474846b0cc3cada82f0587%29%0A%20%20%20%20%20%20%20%20%3B%0A%0A%20%20%20%20%20%20%20%20%0A%20%20%20%20%0A%20%20%20%20%0A%20%20%20%20%20%20%20%20%20%20%20%20var%20marker_7c72b7d463b34bbeb29136bac065235a%20%3D%20L.marker%28%0A%20%20%20%20%20%20%20%20%20%20%20%20%20%20%20%20%5B40.61530494652761%2C%20-74.06980526716141%5D%2C%0A%20%20%20%20%20%20%20%20%20%20%20%20%20%20%20%20%7B%7D%0A%20%20%20%20%20%20%20%20%20%20%20%20%29.addTo%28map_50f508bc090043ed8dd7bd026a017361%29%3B%0A%20%20%20%20%20%20%20%20%0A%20%20%20%20%0A%20%20%20%20%20%20%20%20var%20popup_09fbbfb16b884b2ea22292081b6705d8%20%3D%20L.popup%28%7B%22maxWidth%22%3A%20%22100%25%22%7D%29%3B%0A%0A%20%20%20%20%20%20%20%20%0A%20%20%20%20%20%20%20%20%20%20%20%20var%20html_f2e8b8c329014626aa0e77a66294617f%20%3D%20%24%28%60%3Cdiv%20id%3D%22html_f2e8b8c329014626aa0e77a66294617f%22%20style%3D%22width%3A%20100.0%25%3B%20height%3A%20100.0%25%3B%22%3ERosebank%2C%20Staten%20Island%287.4%29%3C/div%3E%60%29%5B0%5D%3B%0A%20%20%20%20%20%20%20%20%20%20%20%20popup_09fbbfb16b884b2ea22292081b6705d8.setContent%28html_f2e8b8c329014626aa0e77a66294617f%29%3B%0A%20%20%20%20%20%20%20%20%0A%0A%20%20%20%20%20%20%20%20marker_7c72b7d463b34bbeb29136bac065235a.bindPopup%28popup_09fbbfb16b884b2ea22292081b6705d8%29%0A%20%20%20%20%20%20%20%20%3B%0A%0A%20%20%20%20%20%20%20%20%0A%20%20%20%20%0A%20%20%20%20%0A%20%20%20%20%20%20%20%20%20%20%20%20var%20feature_group_9158b6e19bdd4574ad98542cc29fafd9%20%3D%20L.featureGroup%28%0A%20%20%20%20%20%20%20%20%20%20%20%20%20%20%20%20%7B%7D%0A%20%20%20%20%20%20%20%20%20%20%20%20%29.addTo%28map_50f508bc090043ed8dd7bd026a017361%29%3B%0A%20%20%20%20%20%20%20%20%0A%20%20%20%20%0A%20%20%20%20%20%20%20%20%20%20%20%20var%20circle_marker_b1da90dbf13d45378f78ff2883354892%20%3D%20L.circleMarker%28%0A%20%20%20%20%20%20%20%20%20%20%20%20%20%20%20%20%5B40.85727710073895%2C%20-73.88845196134804%5D%2C%0A%20%20%20%20%20%20%20%20%20%20%20%20%20%20%20%20%7B%22bubblingMouseEvents%22%3A%20true%2C%20%22color%22%3A%20%22yellow%22%2C%20%22dashArray%22%3A%20null%2C%20%22dashOffset%22%3A%20null%2C%20%22fill%22%3A%20true%2C%20%22fillColor%22%3A%20%22blue%22%2C%20%22fillOpacity%22%3A%200.6%2C%20%22fillRule%22%3A%20%22evenodd%22%2C%20%22lineCap%22%3A%20%22round%22%2C%20%22lineJoin%22%3A%20%22round%22%2C%20%22opacity%22%3A%201.0%2C%20%22radius%22%3A%2010%2C%20%22stroke%22%3A%20true%2C%20%22weight%22%3A%203%7D%0A%20%20%20%20%20%20%20%20%20%20%20%20%29.addTo%28feature_group_9158b6e19bdd4574ad98542cc29fafd9%29%3B%0A%20%20%20%20%20%20%20%20%0A%20%20%20%20%0A%20%20%20%20%20%20%20%20%20%20%20%20var%20circle_marker_04c07078d7e84990b4cc27a03b606cb2%20%3D%20L.circleMarker%28%0A%20%20%20%20%20%20%20%20%20%20%20%20%20%20%20%20%5B40.57682506566604%2C%20-73.96509448785336%5D%2C%0A%20%20%20%20%20%20%20%20%20%20%20%20%20%20%20%20%7B%22bubblingMouseEvents%22%3A%20true%2C%20%22color%22%3A%20%22yellow%22%2C%20%22dashArray%22%3A%20null%2C%20%22dashOffset%22%3A%20null%2C%20%22fill%22%3A%20true%2C%20%22fillColor%22%3A%20%22blue%22%2C%20%22fillOpacity%22%3A%200.6%2C%20%22fillRule%22%3A%20%22evenodd%22%2C%20%22lineCap%22%3A%20%22round%22%2C%20%22lineJoin%22%3A%20%22round%22%2C%20%22opacity%22%3A%201.0%2C%20%22radius%22%3A%2010%2C%20%22stroke%22%3A%20true%2C%20%22weight%22%3A%203%7D%0A%20%20%20%20%20%20%20%20%20%20%20%20%29.addTo%28feature_group_9158b6e19bdd4574ad98542cc29fafd9%29%3B%0A%20%20%20%20%20%20%20%20%0A%20%20%20%20%0A%20%20%20%20%20%20%20%20%20%20%20%20var%20circle_marker_c94266a909914620a4ba928c14241d00%20%3D%20L.circleMarker%28%0A%20%20%20%20%20%20%20%20%20%20%20%20%20%20%20%20%5B40.85272297633017%2C%20-73.86172577555115%5D%2C%0A%20%20%20%20%20%20%20%20%20%20%20%20%20%20%20%20%7B%22bubblingMouseEvents%22%3A%20true%2C%20%22color%22%3A%20%22yellow%22%2C%20%22dashArray%22%3A%20null%2C%20%22dashOffset%22%3A%20null%2C%20%22fill%22%3A%20true%2C%20%22fillColor%22%3A%20%22blue%22%2C%20%22fillOpacity%22%3A%200.6%2C%20%22fillRule%22%3A%20%22evenodd%22%2C%20%22lineCap%22%3A%20%22round%22%2C%20%22lineJoin%22%3A%20%22round%22%2C%20%22opacity%22%3A%201.0%2C%20%22radius%22%3A%2010%2C%20%22stroke%22%3A%20true%2C%20%22weight%22%3A%203%7D%0A%20%20%20%20%20%20%20%20%20%20%20%20%29.addTo%28feature_group_9158b6e19bdd4574ad98542cc29fafd9%29%3B%0A%20%20%20%20%20%20%20%20%0A%20%20%20%20%0A%20%20%20%20%20%20%20%20%20%20%20%20var%20circle_marker_07e81a521c5646ee8e4bce4ba7eeab37%20%3D%20L.circleMarker%28%0A%20%20%20%20%20%20%20%20%20%20%20%20%20%20%20%20%5B40.61917845202843%2C%20-74.072642445484%5D%2C%0A%20%20%20%20%20%20%20%20%20%20%20%20%20%20%20%20%7B%22bubblingMouseEvents%22%3A%20true%2C%20%22color%22%3A%20%22yellow%22%2C%20%22dashArray%22%3A%20null%2C%20%22dashOffset%22%3A%20null%2C%20%22fill%22%3A%20true%2C%20%22fillColor%22%3A%20%22blue%22%2C%20%22fillOpacity%22%3A%200.6%2C%20%22fillRule%22%3A%20%22evenodd%22%2C%20%22lineCap%22%3A%20%22round%22%2C%20%22lineJoin%22%3A%20%22round%22%2C%20%22opacity%22%3A%201.0%2C%20%22radius%22%3A%2010%2C%20%22stroke%22%3A%20true%2C%20%22weight%22%3A%203%7D%0A%20%20%20%20%20%20%20%20%20%20%20%20%29.addTo%28feature_group_9158b6e19bdd4574ad98542cc29fafd9%29%3B%0A%20%20%20%20%20%20%20%20%0A%20%20%20%20%0A%20%20%20%20%20%20%20%20%20%20%20%20var%20circle_marker_48bf1b463a0f4efaa5b68d43dabb759e%20%3D%20L.circleMarker%28%0A%20%20%20%20%20%20%20%20%20%20%20%20%20%20%20%20%5B40.57621558711788%2C%20-74.10585598545434%5D%2C%0A%20%20%20%20%20%20%20%20%20%20%20%20%20%20%20%20%7B%22bubblingMouseEvents%22%3A%20true%2C%20%22color%22%3A%20%22yellow%22%2C%20%22dashArray%22%3A%20null%2C%20%22dashOffset%22%3A%20null%2C%20%22fill%22%3A%20true%2C%20%22fillColor%22%3A%20%22blue%22%2C%20%22fillOpacity%22%3A%200.6%2C%20%22fillRule%22%3A%20%22evenodd%22%2C%20%22lineCap%22%3A%20%22round%22%2C%20%22lineJoin%22%3A%20%22round%22%2C%20%22opacity%22%3A%201.0%2C%20%22radius%22%3A%2010%2C%20%22stroke%22%3A%20true%2C%20%22weight%22%3A%203%7D%0A%20%20%20%20%20%20%20%20%20%20%20%20%29.addTo%28feature_group_9158b6e19bdd4574ad98542cc29fafd9%29%3B%0A%20%20%20%20%20%20%20%20%0A%20%20%20%20%0A%20%20%20%20%20%20%20%20%20%20%20%20var%20circle_marker_e61042fd72bd492e807802664bd713bb%20%3D%20L.circleMarker%28%0A%20%20%20%20%20%20%20%20%20%20%20%20%20%20%20%20%5B40.72693288536128%2C%20-73.99991402945902%5D%2C%0A%20%20%20%20%20%20%20%20%20%20%20%20%20%20%20%20%7B%22bubblingMouseEvents%22%3A%20true%2C%20%22color%22%3A%20%22yellow%22%2C%20%22dashArray%22%3A%20null%2C%20%22dashOffset%22%3A%20null%2C%20%22fill%22%3A%20true%2C%20%22fillColor%22%3A%20%22blue%22%2C%20%22fillOpacity%22%3A%200.6%2C%20%22fillRule%22%3A%20%22evenodd%22%2C%20%22lineCap%22%3A%20%22round%22%2C%20%22lineJoin%22%3A%20%22round%22%2C%20%22opacity%22%3A%201.0%2C%20%22radius%22%3A%2010%2C%20%22stroke%22%3A%20true%2C%20%22weight%22%3A%203%7D%0A%20%20%20%20%20%20%20%20%20%20%20%20%29.addTo%28feature_group_9158b6e19bdd4574ad98542cc29fafd9%29%3B%0A%20%20%20%20%20%20%20%20%0A%20%20%20%20%0A%20%20%20%20%20%20%20%20%20%20%20%20var%20circle_marker_24c6391c32044cacb9d62e6c8bf0d6db%20%3D%20L.circleMarker%28%0A%20%20%20%20%20%20%20%20%20%20%20%20%20%20%20%20%5B40.76811265828733%2C%20-73.9588596881376%5D%2C%0A%20%20%20%20%20%20%20%20%20%20%20%20%20%20%20%20%7B%22bubblingMouseEvents%22%3A%20true%2C%20%22color%22%3A%20%22yellow%22%2C%20%22dashArray%22%3A%20null%2C%20%22dashOffset%22%3A%20null%2C%20%22fill%22%3A%20true%2C%20%22fillColor%22%3A%20%22blue%22%2C%20%22fillOpacity%22%3A%200.6%2C%20%22fillRule%22%3A%20%22evenodd%22%2C%20%22lineCap%22%3A%20%22round%22%2C%20%22lineJoin%22%3A%20%22round%22%2C%20%22opacity%22%3A%201.0%2C%20%22radius%22%3A%2010%2C%20%22stroke%22%3A%20true%2C%20%22weight%22%3A%203%7D%0A%20%20%20%20%20%20%20%20%20%20%20%20%29.addTo%28feature_group_9158b6e19bdd4574ad98542cc29fafd9%29%3B%0A%20%20%20%20%20%20%20%20%0A%20%20%20%20%0A%20%20%20%20%20%20%20%20%20%20%20%20var%20circle_marker_565d071c73f7401587006c9c756368ef%20%3D%20L.circleMarker%28%0A%20%20%20%20%20%20%20%20%20%20%20%20%20%20%20%20%5B40.582801696845586%2C%20-73.82236121088751%5D%2C%0A%20%20%20%20%20%20%20%20%20%20%20%20%20%20%20%20%7B%22bubblingMouseEvents%22%3A%20true%2C%20%22color%22%3A%20%22yellow%22%2C%20%22dashArray%22%3A%20null%2C%20%22dashOffset%22%3A%20null%2C%20%22fill%22%3A%20true%2C%20%22fillColor%22%3A%20%22blue%22%2C%20%22fillOpacity%22%3A%200.6%2C%20%22fillRule%22%3A%20%22evenodd%22%2C%20%22lineCap%22%3A%20%22round%22%2C%20%22lineJoin%22%3A%20%22round%22%2C%20%22opacity%22%3A%201.0%2C%20%22radius%22%3A%2010%2C%20%22stroke%22%3A%20true%2C%20%22weight%22%3A%203%7D%0A%20%20%20%20%20%20%20%20%20%20%20%20%29.addTo%28feature_group_9158b6e19bdd4574ad98542cc29fafd9%29%3B%0A%20%20%20%20%20%20%20%20%0A%20%20%20%20%0A%20%20%20%20%20%20%20%20%20%20%20%20var%20circle_marker_7d42a5bf417d48fea5c03147cc1757c4%20%3D%20L.circleMarker%28%0A%20%20%20%20%20%20%20%20%20%20%20%20%20%20%20%20%5B40.61530494652761%2C%20-74.06980526716141%5D%2C%0A%20%20%20%20%20%20%20%20%20%20%20%20%20%20%20%20%7B%22bubblingMouseEvents%22%3A%20true%2C%20%22color%22%3A%20%22yellow%22%2C%20%22dashArray%22%3A%20null%2C%20%22dashOffset%22%3A%20null%2C%20%22fill%22%3A%20true%2C%20%22fillColor%22%3A%20%22blue%22%2C%20%22fillOpacity%22%3A%200.6%2C%20%22fillRule%22%3A%20%22evenodd%22%2C%20%22lineCap%22%3A%20%22round%22%2C%20%22lineJoin%22%3A%20%22round%22%2C%20%22opacity%22%3A%201.0%2C%20%22radius%22%3A%2010%2C%20%22stroke%22%3A%20true%2C%20%22weight%22%3A%203%7D%0A%20%20%20%20%20%20%20%20%20%20%20%20%29.addTo%28feature_group_9158b6e19bdd4574ad98542cc29fafd9%29%3B%0A%20%20%20%20%20%20%20%20%0A%3C/script%3E onload=\"this.contentDocument.open();this.contentDocument.write(    decodeURIComponent(this.getAttribute('data-html')));this.contentDocument.close();\" allowfullscreen webkitallowfullscreen mozallowfullscreen></iframe></div></div>"
      ],
      "text/plain": [
       "<folium.folium.Map at 0x2a824bd3730>"
      ]
     },
     "execution_count": 61,
     "metadata": {},
     "output_type": "execute_result"
    }
   ],
   "source": [
    "ny_neighborhood_stats['Label']=ny_neighborhood_stats['Neighborhood']+', '+ny_neighborhood_stats['Borough']+'('+ny_neighborhood_stats['Average Rating'].map(str)+')'\n",
    "# add pop-up text to each marker on the map\n",
    "for lat, lng, label in ny_neighborhood_stats[['Latitude','Longitude','Label']].values:\n",
    "    folium.Marker([lat, lng], popup=label).add_to(ny_map)        \n",
    "# add ratings to map\n",
    "ny_map.add_child(rating)"
   ]
  },
  {
   "cell_type": "code",
   "execution_count": null,
   "metadata": {},
   "outputs": [],
   "source": []
  }
 ],
 "metadata": {
  "kernelspec": {
   "display_name": "Python 3",
   "language": "python",
   "name": "python3"
  },
  "language_info": {
   "codemirror_mode": {
    "name": "ipython",
    "version": 3
   },
   "file_extension": ".py",
   "mimetype": "text/x-python",
   "name": "python",
   "nbconvert_exporter": "python",
   "pygments_lexer": "ipython3",
   "version": "3.8.3"
  }
 },
 "nbformat": 4,
 "nbformat_minor": 4
}
